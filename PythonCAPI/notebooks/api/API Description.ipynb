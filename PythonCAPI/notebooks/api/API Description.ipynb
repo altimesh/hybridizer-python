{
 "cells": [
  {
   "cell_type": "markdown",
   "metadata": {},
   "source": [
    "# Hybrid CUDA on Python Tutorial"
   ]
  },
  {
   "cell_type": "markdown",
   "metadata": {},
   "source": [
    "This notebook aims at presenting the API of hybrid cuda."
   ]
  },
  {
   "cell_type": "markdown",
   "metadata": {},
   "source": [
    "## Initializing the CUDA context in the kernel runner process\n",
    "\n",
    "hybrid cuda uses the CUDA driver API. It requires initialization."
   ]
  },
  {
   "cell_type": "code",
   "execution_count": null,
   "metadata": {},
   "outputs": [],
   "source": [
    "import os\n",
    "import inspect\n",
    "import hybridcuda\n",
    "hybridcuda.registerheader(\"hybpython.cuh\", os.getcwd() + os.sep + \"..\" + os.sep + \"..\" + os.sep + \"hybpython.cuh\")\n",
    "cures = hybridcuda.initcuda()\n",
    "cures"
   ]
  },
  {
   "cell_type": "code",
   "execution_count": null,
   "metadata": {},
   "outputs": [],
   "source": [
    "class hybridkernel:\n",
    "    gridDimX = 1\n",
    "    blockDimX = 1\n",
    "    shared = 0\n",
    "    stream = 0\n",
    "    def __init__(self, func):\n",
    "        self.hc = hybridcuda.processfunction(func)\n",
    "        self.hc = hybridcuda.cudajitcode(self.hc)\n",
    "        self.hc = hybridcuda.ptxlinkcode(self.hc)\n",
    "        \n",
    "    def __call__(self, *args):\n",
    "        self.hc = hybridcuda.launch(self.hc, self.gridDimX,1,1, self.blockDimX,1,1, self.shared,self.stream, *args)\n",
    "\n",
    "    def __getitem__(self, args):\n",
    "        if (type(args) != tuple):\n",
    "            self.grid = args\n",
    "            return self\n",
    "        # args is a tuple...\n",
    "        if (len(args) > 0):\n",
    "            self.grid = args[0]\n",
    "        if (len(args) > 1):\n",
    "            self.block = args[1]\n",
    "        if (len(args) > 2):\n",
    "            self.shared = args[2]\n",
    "        if (len(args) > 3):\n",
    "            self.stream = args[3]\n",
    "        return self\n",
    "\n",
    "#decorator definition\n",
    "def hybridfunction(func):\n",
    "    return hybridkernel(func)"
   ]
  },
  {
   "cell_type": "markdown",
   "metadata": {},
   "source": [
    "## 1. Hello World sample"
   ]
  },
  {
   "cell_type": "markdown",
   "metadata": {},
   "source": [
    "Kernel definition"
   ]
  },
  {
   "cell_type": "code",
   "execution_count": null,
   "metadata": {},
   "outputs": [],
   "source": [
    "@hybridfunction\n",
    "def mykernel(N : int, a,b,c):\n",
    "    for i in range(0,N):\n",
    "        c[i] = a[i] + b[i]"
   ]
  },
  {
   "cell_type": "markdown",
   "metadata": {},
   "source": [
    "Running kernel on GPU"
   ]
  },
  {
   "cell_type": "code",
   "execution_count": null,
   "metadata": {},
   "outputs": [],
   "source": [
    "## prepare some data\n",
    "import numpy as np\n",
    "N = 10\n",
    "a = np.ones(N)\n",
    "b = np.ones(N)\n",
    "c = np.zeros(N)\n",
    "\n",
    "## launch kernel\n",
    "mykernel[1,1](N,a,b,c)\n",
    "c\n"
   ]
  },
  {
   "cell_type": "markdown",
   "metadata": {},
   "source": [
    "## 2. Walkthrough a simple example (without syntaxic sugar)"
   ]
  },
  {
   "cell_type": "markdown",
   "metadata": {},
   "source": [
    "### Function to be transpiled"
   ]
  },
  {
   "cell_type": "code",
   "execution_count": null,
   "metadata": {},
   "outputs": [],
   "source": [
    "def func(N : int, a,b,c):\n",
    "    for i in range(0,N):\n",
    "        c[i] = a[i] + b[i]"
   ]
  },
  {
   "cell_type": "markdown",
   "metadata": {},
   "source": [
    "### 1. Generate cuda source code "
   ]
  },
  {
   "cell_type": "code",
   "execution_count": null,
   "metadata": {},
   "outputs": [],
   "source": [
    "hc = hybridcuda.processfunction(func)\n",
    "hc"
   ]
  },
  {
   "cell_type": "markdown",
   "metadata": {},
   "source": [
    "Function call returns a dictionary with the following entries:\n",
    "* `version`: a version number\n",
    "* `cuda`: string with the cuda source code of the generated module\n",
    "* `kernelname`: the kernel function name - *that is the exported symbol of the kernel function*\n",
    "* `argtypes`: contains the argument types in CUDA format"
   ]
  },
  {
   "cell_type": "markdown",
   "metadata": {},
   "source": [
    "### 2. Generate PTX from CUDA source"
   ]
  },
  {
   "cell_type": "code",
   "execution_count": null,
   "metadata": {},
   "outputs": [],
   "source": [
    "hc = hybridcuda.cudajitcode(hc)\n",
    "hc.keys()"
   ]
  },
  {
   "cell_type": "markdown",
   "metadata": {},
   "source": [
    "Two entries are added: \n",
    "* `ptx`: holds a string with the ptx assembly code\n",
    "* `nvrtclog`: holds the log from the compilation"
   ]
  },
  {
   "cell_type": "markdown",
   "metadata": {},
   "source": [
    "### 3. Generate CUBIN from PTX"
   ]
  },
  {
   "cell_type": "code",
   "execution_count": null,
   "metadata": {},
   "outputs": [],
   "source": [
    "hc = hybridcuda.ptxlinkcode(hc)\n",
    "hc.keys()"
   ]
  },
  {
   "cell_type": "markdown",
   "metadata": {},
   "source": [
    "`cubin` entry is added which is a memory view"
   ]
  },
  {
   "cell_type": "markdown",
   "metadata": {},
   "source": [
    "### 4. Launching the kernel"
   ]
  },
  {
   "cell_type": "code",
   "execution_count": null,
   "metadata": {},
   "outputs": [],
   "source": [
    "## prepare some data\n",
    "import numpy as np\n",
    "N = 10\n",
    "a = np.ones(N)\n",
    "b = np.ones(N)\n",
    "c = np.zeros(N)\n",
    "\n",
    "## launch kernel\n",
    "hc = hybridcuda.launch(hc, 1,1,1, 1,1,1, 0,0, N,a,b,c)\n",
    "c\n"
   ]
  },
  {
   "cell_type": "code",
   "execution_count": null,
   "metadata": {},
   "outputs": [],
   "source": [
    "# Arguments of the launch function\n",
    "print(hybridcuda.launch.__doc__)"
   ]
  },
  {
   "cell_type": "code",
   "execution_count": null,
   "metadata": {},
   "outputs": [],
   "source": []
  }
 ],
 "metadata": {
  "kernelspec": {
   "display_name": "Python 3",
   "language": "python",
   "name": "python3"
  },
  "language_info": {
   "codemirror_mode": {
    "name": "ipython",
    "version": 3
   },
   "file_extension": ".py",
   "mimetype": "text/x-python",
   "name": "python",
   "nbconvert_exporter": "python",
   "pygments_lexer": "ipython3",
   "version": "3.6.5"
  }
 },
 "nbformat": 4,
 "nbformat_minor": 2
}
