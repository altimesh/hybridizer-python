{
 "cells": [
  {
   "cell_type": "code",
   "execution_count": null,
   "metadata": {},
   "outputs": [],
   "source": [
    "import os\n",
    "os.getpid()"
   ]
  },
  {
   "cell_type": "markdown",
   "metadata": {},
   "source": [
    "## Importing module\n",
    "\n",
    "This could be better with a module init or other import setup."
   ]
  },
  {
   "cell_type": "code",
   "execution_count": null,
   "metadata": {},
   "outputs": [],
   "source": [
    "import inspect\n",
    "import hybridcuda\n",
    "cures = hybridcuda.initcuda()\n",
    "hybridcuda.registerheader(\"hybpython.cuh\", os.getcwd() + os.sep + \"..\" + os.sep + \"..\" + os.sep + \"hybpython.cuh\")\n",
    "cures"
   ]
  },
  {
   "cell_type": "code",
   "execution_count": null,
   "metadata": {},
   "outputs": [],
   "source": [
    "class hybridkernel:\n",
    "    gridDimX = 1\n",
    "    blockDimX = 1\n",
    "    shared = 0\n",
    "    stream = 0\n",
    "    def __init__(self, func):\n",
    "        self.hc = hybridcuda.processfunction(func)\n",
    "        self.hc = hybridcuda.cudajitcode(self.hc)\n",
    "        self.hc = hybridcuda.ptxlinkcode(self.hc)\n",
    "        \n",
    "    def __call__(self, *args):\n",
    "        self.hc = hybridcuda.launch(self.hc, self.gridDimX,1,1, self.blockDimX,1,1, self.shared,self.stream, *args)\n",
    "\n",
    "    def __getitem__(self, args):\n",
    "        if (type(args) != tuple):\n",
    "            self.grid = args\n",
    "            return self\n",
    "        # args is a tuple...\n",
    "        if (len(args) > 0):\n",
    "            self.grid = args[0]\n",
    "        if (len(args) > 1):\n",
    "            self.block = args[1]\n",
    "        if (len(args) > 2):\n",
    "            self.shared = args[2]\n",
    "        if (len(args) > 3):\n",
    "            self.stream = args[3]\n",
    "        return self\n",
    "\n",
    "#decorator definition\n",
    "def hybridfunction(func):\n",
    "    return hybridkernel(func)"
   ]
  },
  {
   "cell_type": "code",
   "execution_count": null,
   "metadata": {},
   "outputs": [],
   "source": [
    "class threadIdx(object):\n",
    "    __hybrid_cuda__intrinsic_type__ = \"threadIdx\"\n",
    "    x : int = 0\n",
    "    y : int = 0\n",
    "    z : int = 0\n",
    "        \n",
    "class blockIdx(object):\n",
    "    __hybrid_cuda__intrinsic_type__ = \"blockIdx\"\n",
    "    x : int = 0\n",
    "    y : int = 0\n",
    "    z : int = 0\n",
    "        \n",
    "class blockDim(object):\n",
    "    __hybrid_cuda__intrinsic_type__ = \"blockDim\"\n",
    "    x : int = 1\n",
    "    y : int = 1\n",
    "    z : int = 1\n",
    "        \n",
    "class gridDim(object):\n",
    "    __hybrid_cuda__intrinsic_type__ = \"gridDim\"\n",
    "    x : int = 1\n",
    "    y : int = 1\n",
    "    z : int = 1"
   ]
  },
  {
   "cell_type": "markdown",
   "metadata": {},
   "source": [
    "## Calling a Function"
   ]
  },
  {
   "cell_type": "code",
   "execution_count": null,
   "metadata": {},
   "outputs": [],
   "source": [
    "def niter(maxiter,x,y):\n",
    "    z = complex(0,0)\n",
    "    # back to [-2..2]^2 from a 512*512 image\n",
    "    c = complex(x - 256.0, y - 256.0) / 128.0\n",
    "    for n in range(maxiter):\n",
    "        # early exit when the value is above 2 in norm.\n",
    "        if ((z.real * z.real + z.imag * z.imag) > 4.0):\n",
    "            return n\n",
    "        z = z * z + c\n",
    "    return maxiter\n",
    "\n",
    "@hybridkernel\n",
    "def mandelbrot(maxiter,sizex,sizey,pixels):\n",
    "    y = threadIdx.y + blockDim.y * blockIdx.y\n",
    "    while (y < sizey):\n",
    "        x = threadIdx.x + blockDim.x * blockIdx.x\n",
    "        while (x < sizex):\n",
    "            pixels[x+y*sizex] = niter(maxiter,x,y)\n",
    "            x += blockDim.x * gridDim.x\n",
    "        y += blockDim.y * gridDim.y"
   ]
  },
  {
   "cell_type": "code",
   "execution_count": null,
   "metadata": {},
   "outputs": [],
   "source": [
    "import numpy\n",
    "countimage = numpy.zeros(512*512)"
   ]
  },
  {
   "cell_type": "code",
   "execution_count": null,
   "metadata": {},
   "outputs": [],
   "source": [
    "mandelbrot[256,256](32,512,512,countimage)"
   ]
  },
  {
   "cell_type": "markdown",
   "metadata": {},
   "source": [
    "## Coloring and Display"
   ]
  },
  {
   "cell_type": "code",
   "execution_count": null,
   "metadata": {},
   "outputs": [],
   "source": [
    "def falsecolor(a,max_iter):\n",
    "    if (a == max_iter):\n",
    "        # dark red illustrates the inside of the set\n",
    "        return (48,0,0)\n",
    "    red = int(127.0 * float(a) / float(max_iter))\n",
    "    green = int(200.0 * float(a) / float(max_iter))\n",
    "    blue = int(90.0 * float(a) / float(max_iter))\n",
    "    return (red,green,blue) ;"
   ]
  },
  {
   "cell_type": "code",
   "execution_count": null,
   "metadata": {},
   "outputs": [],
   "source": [
    "from matplotlib.pyplot import imshow\n",
    "from PIL import Image\n",
    "\n",
    "img = Image.new('RGB', (512,512), \"black\")\n",
    "pixels = img.load()"
   ]
  },
  {
   "cell_type": "code",
   "execution_count": null,
   "metadata": {},
   "outputs": [],
   "source": [
    "def applycolor(sizex,sizey,countimage,pixels):\n",
    "    for x in range(sizex):\n",
    "        for y in range(sizey):\n",
    "            pixels[x,y] = falsecolor(countimage[sizex*y+x],32)\n",
    "\n",
    "applycolor(512,512,countimage,pixels)"
   ]
  },
  {
   "cell_type": "code",
   "execution_count": null,
   "metadata": {},
   "outputs": [],
   "source": [
    "%matplotlib inline"
   ]
  },
  {
   "cell_type": "code",
   "execution_count": null,
   "metadata": {},
   "outputs": [],
   "source": [
    "img"
   ]
  },
  {
   "cell_type": "markdown",
   "metadata": {},
   "source": [
    "## Going with a lambda\n",
    "\n",
    "(ongoing work - unsupported yet)"
   ]
  },
  {
   "cell_type": "code",
   "execution_count": null,
   "metadata": {},
   "outputs": [],
   "source": [
    "@hybridkernel\n",
    "def mandelbrot_lambda(func,sizex,sizey,pixels):\n",
    "    y = threadIdx.y + blockDim.y * blockIdx.y\n",
    "    while (y < sizey):\n",
    "        x = threadIdx.x + blockDim.x * blockIdx.x\n",
    "        while (x < sizex):\n",
    "            pixels[x+y*sizex] = func(x,y)\n",
    "            x += blockDim.x * gridDim.x\n",
    "        y += blockDim.y * gridDim.y"
   ]
  },
  {
   "cell_type": "code",
   "execution_count": null,
   "metadata": {},
   "outputs": [],
   "source": [
    "def niter(maxiter,x,y):\n",
    "    z = complex(0,0)\n",
    "    # back to [-2..2]^2 from a 512*512 image\n",
    "    c = complex(x - 256.0, y - 256.0) / 128.0\n",
    "    for n in range(maxiter):\n",
    "        # early exit when the value is above 2 in norm.\n",
    "        if ((z.real * z.real + z.imag * z.imag) > 4.0):\n",
    "            return n\n",
    "        z = z * z + c\n",
    "    return maxiter\n",
    "\n",
    "myfunc = lambda x,y: niter(32, x,y)\n",
    "\n",
    "countimage2 = numpy.zeros(512*512)\n",
    "mandelbrot_lambda[256,256](myfunc, 512,512,countimage2)\n"
   ]
  },
  {
   "cell_type": "code",
   "execution_count": null,
   "metadata": {},
   "outputs": [],
   "source": [
    "applycolor(512,512,countimage2,pixels)"
   ]
  },
  {
   "cell_type": "code",
   "execution_count": null,
   "metadata": {},
   "outputs": [],
   "source": [
    "img"
   ]
  },
  {
   "cell_type": "code",
   "execution_count": null,
   "metadata": {},
   "outputs": [],
   "source": []
  }
 ],
 "metadata": {
  "kernelspec": {
   "display_name": "Python 3",
   "language": "python",
   "name": "python3"
  },
  "language_info": {
   "codemirror_mode": {
    "name": "ipython",
    "version": 3
   },
   "file_extension": ".py",
   "mimetype": "text/x-python",
   "name": "python",
   "nbconvert_exporter": "python",
   "pygments_lexer": "ipython3",
   "version": "3.6.5"
  }
 },
 "nbformat": 4,
 "nbformat_minor": 2
}
