{
 "cells": [
  {
   "cell_type": "markdown",
   "metadata": {},
   "source": [
    "From : https://docs.python.org/3.6/reference/index.html"
   ]
  },
  {
   "cell_type": "code",
   "execution_count": null,
   "metadata": {},
   "outputs": [],
   "source": [
    "import os\n",
    "os.getpid()"
   ]
  },
  {
   "cell_type": "code",
   "execution_count": null,
   "metadata": {},
   "outputs": [],
   "source": [
    "import inspect\n",
    "import hybridcuda\n",
    "cures = hybridcuda.initcuda()\n",
    "hybridcuda.registerheader(\"hybpython.cuh\", os.getcwd() + os.sep + \"..\" + os.sep + \"..\" + os.sep + \"hybpython.cuh\")\n",
    "assert cures == 0"
   ]
  },
  {
   "cell_type": "code",
   "execution_count": null,
   "metadata": {},
   "outputs": [],
   "source": [
    "class hybridkernel:\n",
    "    gridDimX = 1\n",
    "    blockDimX = 1\n",
    "    shared = 0\n",
    "    stream = 0\n",
    "    def __init__(self, func):\n",
    "        self.hc = hybridcuda.processfunction(func)\n",
    "        self.hc = hybridcuda.cudajitcode(self.hc)\n",
    "        self.hc = hybridcuda.ptxlinkcode(self.hc)\n",
    "        \n",
    "    def __call__(self, *args):\n",
    "        self.hc = hybridcuda.launch(self.hc, self.gridDimX,1,1, self.blockDimX,1,1, self.shared,self.stream, *args)\n",
    "\n",
    "    def __getitem__(self, args):\n",
    "        if (type(args) != tuple):\n",
    "            self.grid = args\n",
    "            return self\n",
    "        # args is a tuple...\n",
    "        if (len(args) > 0):\n",
    "            self.grid = args[0]\n",
    "        if (len(args) > 1):\n",
    "            self.block = args[1]\n",
    "        if (len(args) > 2):\n",
    "            self.shared = args[2]\n",
    "        if (len(args) > 3):\n",
    "            self.stream = args[3]\n",
    "        return self\n",
    "\n",
    "#decorator definition\n",
    "def hybridfunction(func):\n",
    "    return hybridkernel(func)"
   ]
  },
  {
   "cell_type": "markdown",
   "metadata": {},
   "source": [
    "# 6. Expressions\n",
    "https://docs.python.org/3/reference/expressions.html\n",
    "\n",
    "\n",
    "## 6.1 Arithmetic conversions\n"
   ]
  },
  {
   "cell_type": "code",
   "execution_count": null,
   "metadata": {},
   "outputs": [],
   "source": [
    "@hybridfunction\n",
    "def arithmetic_convert_001(a,b,c):\n",
    "    c[0] = a + b"
   ]
  },
  {
   "cell_type": "code",
   "execution_count": null,
   "metadata": {},
   "outputs": [],
   "source": [
    "a = 1\n",
    "b = 1j\n",
    "c = [0]\n",
    "\n",
    "arithmetic_convert_001[1,1](a,b,c)\n",
    "\n",
    "assert c[0] == (1+1j)"
   ]
  },
  {
   "cell_type": "code",
   "execution_count": null,
   "metadata": {},
   "outputs": [],
   "source": [
    "a = 1\n",
    "b = 1.0\n",
    "c = [0]\n",
    "\n",
    "arithmetic_convert_001[1,1](a,b,c)\n",
    "\n",
    "assert c[0] == 2.0"
   ]
  },
  {
   "cell_type": "code",
   "execution_count": null,
   "metadata": {},
   "outputs": [],
   "source": [
    "a = 1.0\n",
    "b = 1.0+2.0j\n",
    "c = [0]\n",
    "\n",
    "arithmetic_convert_001[1,1](a,b,c)\n",
    "\n",
    "assert c[0] == (2.0+2.0j)"
   ]
  },
  {
   "cell_type": "code",
   "execution_count": null,
   "metadata": {},
   "outputs": [],
   "source": [
    "a = 7 / 2\n",
    "a"
   ]
  },
  {
   "cell_type": "markdown",
   "metadata": {},
   "source": [
    "## 6.5 Power operator\n",
    "\n",
    "https://docs.python.org/3/reference/expressions.html#the-power-operator"
   ]
  },
  {
   "cell_type": "code",
   "execution_count": null,
   "metadata": {},
   "outputs": [],
   "source": [
    "@hybridfunction\n",
    "def arithmetic_power(a,b,c):\n",
    "    c[0] = a ** b"
   ]
  },
  {
   "cell_type": "code",
   "execution_count": null,
   "metadata": {},
   "outputs": [],
   "source": [
    "c = [1]\n",
    "\n",
    "arithmetic_power[1,1](2,3,c)\n",
    "assert c[0] == 8\n",
    "assert type(c[0]) == int"
   ]
  },
  {
   "cell_type": "code",
   "execution_count": null,
   "metadata": {},
   "outputs": [],
   "source": [
    "c = [1]\n",
    "\n",
    "arithmetic_power[1,1](2.0,3,c)\n",
    "assert c[0] == 8.0\n",
    "assert type(c[0]) == float"
   ]
  },
  {
   "cell_type": "code",
   "execution_count": null,
   "metadata": {},
   "outputs": [],
   "source": [
    "c = [1]\n",
    "\n",
    "arithmetic_power[1,1](2,3.0,c)\n",
    "assert c[0] == 8.0\n",
    "assert type(c[0]) == float"
   ]
  },
  {
   "cell_type": "code",
   "execution_count": null,
   "metadata": {},
   "outputs": [],
   "source": [
    "c = [1]\n",
    "\n",
    "arithmetic_power[1,1](2.0,3.0,c)\n",
    "assert c[0] == 8\n",
    "assert type(c[0]) == float"
   ]
  },
  {
   "cell_type": "code",
   "execution_count": null,
   "metadata": {},
   "outputs": [],
   "source": [
    "c = [1]\n",
    "\n",
    "arithmetic_power[1,1](1+1j,2,c)\n",
    "assert abs(c[0]-((1+1j)**2)) < 1e-15\n",
    "assert type(c[0]) == complex"
   ]
  },
  {
   "cell_type": "markdown",
   "metadata": {},
   "source": [
    "## 6.6 Unary arithmetic and bitwise operations\n",
    "\n",
    "https://docs.python.org/3/reference/expressions.html#unary-arithmetic-and-bitwise-operations"
   ]
  },
  {
   "cell_type": "code",
   "execution_count": null,
   "metadata": {},
   "outputs": [],
   "source": [
    "@hybridfunction\n",
    "def arithmetic_unary_minus(a,b):\n",
    "    b[0] = -a"
   ]
  },
  {
   "cell_type": "code",
   "execution_count": null,
   "metadata": {},
   "outputs": [],
   "source": [
    "b = [0]\n",
    "\n",
    "arithmetic_unary_minus[1,1](1,b)\n",
    "assert b[0] == -1"
   ]
  },
  {
   "cell_type": "code",
   "execution_count": null,
   "metadata": {},
   "outputs": [],
   "source": [
    "@hybridfunction\n",
    "def arithmetic_unary_plus(a,b):\n",
    "    b[0] = +a"
   ]
  },
  {
   "cell_type": "code",
   "execution_count": null,
   "metadata": {},
   "outputs": [],
   "source": [
    "b = [0]\n",
    "\n",
    "arithmetic_unary_plus[1,1](1,b)\n",
    "assert b[0] == 1"
   ]
  },
  {
   "cell_type": "code",
   "execution_count": null,
   "metadata": {},
   "outputs": [],
   "source": [
    "@hybridfunction\n",
    "def arithmetic_unary_invert(a,b):\n",
    "    b[0] = ~a"
   ]
  },
  {
   "cell_type": "code",
   "execution_count": null,
   "metadata": {},
   "outputs": [],
   "source": [
    "b = [0]\n",
    "\n",
    "arithmetic_unary_invert[1,1](123,b)\n",
    "assert (b[0] == ~123)"
   ]
  },
  {
   "cell_type": "markdown",
   "metadata": {},
   "source": [
    "TODO : support operator not, which returns boolean\n",
    "\n",
    "`a = not 12`"
   ]
  },
  {
   "cell_type": "markdown",
   "metadata": {},
   "source": [
    "## 6.7 Binary arithmetic operations\n",
    "\n",
    "https://docs.python.org/3/reference/expressions.html#binary-arithmetic-operations"
   ]
  },
  {
   "cell_type": "markdown",
   "metadata": {},
   "source": [
    "Mul"
   ]
  },
  {
   "cell_type": "code",
   "execution_count": null,
   "metadata": {},
   "outputs": [],
   "source": [
    "@hybridfunction\n",
    "def arithmetic_binary_mul(a,b,c):\n",
    "    c[0] = a * b"
   ]
  },
  {
   "cell_type": "code",
   "execution_count": null,
   "metadata": {},
   "outputs": [],
   "source": [
    "res = [0]\n",
    "\n",
    "arithmetic_binary_mul[1,1](2,3,res)\n",
    "assert res[0] == 6\n",
    "assert type(res[0]) == int"
   ]
  },
  {
   "cell_type": "code",
   "execution_count": null,
   "metadata": {},
   "outputs": [],
   "source": [
    "res = [0]\n",
    "\n",
    "arithmetic_binary_mul[1,1](2.0,3,res)\n",
    "assert res[0] == 6.0\n",
    "assert type(res[0]) == float"
   ]
  },
  {
   "cell_type": "code",
   "execution_count": null,
   "metadata": {},
   "outputs": [],
   "source": [
    "res = [0]\n",
    "\n",
    "arithmetic_binary_mul[1,1](2.0+1j,3,res)\n",
    "assert res[0] == 6.0+3.0j\n",
    "assert type(res[0]) == complex"
   ]
  },
  {
   "cell_type": "markdown",
   "metadata": {},
   "source": [
    "Add"
   ]
  },
  {
   "cell_type": "code",
   "execution_count": null,
   "metadata": {},
   "outputs": [],
   "source": [
    "@hybridfunction\n",
    "def arithmetic_binary_add(a,b,c):\n",
    "    c[0] = a + b"
   ]
  },
  {
   "cell_type": "code",
   "execution_count": null,
   "metadata": {},
   "outputs": [],
   "source": [
    "res = [0]\n",
    "\n",
    "arithmetic_binary_add[1,1](2,3,res)\n",
    "assert res[0] == 5\n",
    "assert type(res[0]) == int"
   ]
  },
  {
   "cell_type": "code",
   "execution_count": null,
   "metadata": {},
   "outputs": [],
   "source": [
    "res = [0]\n",
    "\n",
    "arithmetic_binary_add[1,1](2.0,3,res)\n",
    "assert res[0] == 5\n",
    "assert type(res[0]) == float"
   ]
  },
  {
   "cell_type": "code",
   "execution_count": null,
   "metadata": {},
   "outputs": [],
   "source": [
    "res = [0]\n",
    "\n",
    "arithmetic_binary_add[1,1](2.0+1j,3,res)\n",
    "assert res[0] == 5.0+1j\n",
    "assert type(res[0]) == complex"
   ]
  },
  {
   "cell_type": "markdown",
   "metadata": {},
   "source": [
    "Sub"
   ]
  },
  {
   "cell_type": "code",
   "execution_count": null,
   "metadata": {},
   "outputs": [],
   "source": [
    "@hybridfunction\n",
    "def arithmetic_binary_sub(a,b,c):\n",
    "    c[0] = a - b"
   ]
  },
  {
   "cell_type": "code",
   "execution_count": null,
   "metadata": {},
   "outputs": [],
   "source": [
    "res = [0]\n",
    "\n",
    "arithmetic_binary_sub[1,1](2,3,res)\n",
    "assert res[0] == -1\n",
    "assert type(res[0]) == int"
   ]
  },
  {
   "cell_type": "code",
   "execution_count": null,
   "metadata": {},
   "outputs": [],
   "source": [
    "res = [0]\n",
    "\n",
    "arithmetic_binary_sub[1,1](2.0,3,res)\n",
    "assert res[0] == -1.0\n",
    "assert type(res[0]) == float"
   ]
  },
  {
   "cell_type": "code",
   "execution_count": null,
   "metadata": {},
   "outputs": [],
   "source": [
    "res = [0]\n",
    "\n",
    "arithmetic_binary_sub[1,1](2.0+1j,3,res)\n",
    "assert res[0] == -1.0+1j\n",
    "assert type(res[0]) == complex"
   ]
  },
  {
   "cell_type": "code",
   "execution_count": null,
   "metadata": {},
   "outputs": [],
   "source": [
    "res"
   ]
  },
  {
   "cell_type": "markdown",
   "metadata": {},
   "source": [
    "Div"
   ]
  },
  {
   "cell_type": "code",
   "execution_count": null,
   "metadata": {},
   "outputs": [],
   "source": [
    "@hybridfunction\n",
    "def arithmetic_binary_div(a,b,c):\n",
    "    c[0] = a / b"
   ]
  },
  {
   "cell_type": "code",
   "execution_count": null,
   "metadata": {},
   "outputs": [],
   "source": [
    "res = [0]\n",
    "\n",
    "arithmetic_binary_div[1,1](6,3,res)\n",
    "assert res[0] == (6/3)\n",
    "assert type(res[0]) == type(6/3)"
   ]
  },
  {
   "cell_type": "code",
   "execution_count": null,
   "metadata": {},
   "outputs": [],
   "source": [
    "res = [0]\n",
    "\n",
    "arithmetic_binary_div[1,1](5,2,res)\n",
    "assert res[0] == (5/2)\n",
    "assert type(res[0]) == type(5/2)"
   ]
  },
  {
   "cell_type": "markdown",
   "metadata": {},
   "source": [
    "FloorDiv"
   ]
  },
  {
   "cell_type": "code",
   "execution_count": null,
   "metadata": {},
   "outputs": [],
   "source": [
    "@hybridfunction\n",
    "def arithmetic_binary_floordiv(a,b,c):\n",
    "    c[0] = a // b"
   ]
  },
  {
   "cell_type": "code",
   "execution_count": null,
   "metadata": {},
   "outputs": [],
   "source": [
    "res = [0]\n",
    "\n",
    "arithmetic_binary_floordiv[1,1](5,2,res)\n",
    "assert res[0] == (5//2)\n",
    "assert type(res[0]) == type(5//2)"
   ]
  },
  {
   "cell_type": "code",
   "execution_count": null,
   "metadata": {},
   "outputs": [],
   "source": [
    "res = [0]\n",
    "\n",
    "arithmetic_binary_floordiv[1,1](5.0,2,res)\n",
    "assert res[0] == (5.0//2)\n",
    "assert type(res[0]) == type(5.0//2)"
   ]
  },
  {
   "cell_type": "code",
   "execution_count": null,
   "metadata": {},
   "outputs": [],
   "source": [
    "res = [0]\n",
    "\n",
    "arithmetic_binary_floordiv[1,1](5,2.0,res)\n",
    "assert res[0] == (5//2.0)\n",
    "assert type(res[0]) == type(5//2.0)"
   ]
  },
  {
   "cell_type": "markdown",
   "metadata": {},
   "source": [
    "Mod"
   ]
  },
  {
   "cell_type": "code",
   "execution_count": null,
   "metadata": {},
   "outputs": [],
   "source": [
    "@hybridfunction\n",
    "def arithmetic_binary_mod(a,b,c):\n",
    "    c[0] = a % b"
   ]
  },
  {
   "cell_type": "code",
   "execution_count": null,
   "metadata": {},
   "outputs": [],
   "source": [
    "res = [0]\n",
    "\n",
    "arithmetic_binary_mod[1,1](5,2,res)\n",
    "assert res[0] == (5%2)\n",
    "assert type(res[0]) == type(5%2)"
   ]
  },
  {
   "cell_type": "code",
   "execution_count": null,
   "metadata": {},
   "outputs": [],
   "source": [
    "res = [0]\n",
    "\n",
    "arithmetic_binary_mod[1,1](5.1,2.3,res)\n",
    "assert res[0] == (5.1%2.3)\n",
    "assert type(res[0]) == type(5.1%2.3)"
   ]
  },
  {
   "cell_type": "markdown",
   "metadata": {},
   "source": [
    "## 6.8 Shifting operations\n",
    "\n",
    "https://docs.python.org/3/reference/expressions.html#shifting-operations"
   ]
  },
  {
   "cell_type": "code",
   "execution_count": null,
   "metadata": {},
   "outputs": [],
   "source": [
    "@hybridfunction\n",
    "def arithmetic_shift(a,b,c):\n",
    "    c[0] = a << b\n",
    "    c[1] = a >> b"
   ]
  },
  {
   "cell_type": "code",
   "execution_count": null,
   "metadata": {},
   "outputs": [],
   "source": [
    "res = [1,1]\n",
    "\n",
    "arithmetic_shift[1,1](12,2,res)\n",
    "\n",
    "assert res[0] == (12 << 2)\n",
    "assert res[1] == (12 >> 2)\n",
    "assert type(res[0]) == type(12 << 2)\n",
    "assert type(res[1]) == type(12 >> 2)"
   ]
  },
  {
   "cell_type": "markdown",
   "metadata": {},
   "source": [
    "## 6.9 Binary bitwise operations\n",
    "\n",
    "https://docs.python.org/3/reference/expressions.html#binary-bitwise-operations"
   ]
  },
  {
   "cell_type": "code",
   "execution_count": null,
   "metadata": {},
   "outputs": [],
   "source": [
    "@hybridfunction\n",
    "def arithmetic_binary_bitwise(a,b,c):\n",
    "    c[0] = a & b\n",
    "    c[1] = a ^ b\n",
    "    c[2] = a | b"
   ]
  },
  {
   "cell_type": "code",
   "execution_count": null,
   "metadata": {},
   "outputs": [],
   "source": [
    "res = [0,0,0]\n",
    "\n",
    "arithmetic_binary_bitwise(42,167,res)\n",
    "\n",
    "assert res[0] == (42 & 167)\n",
    "assert res[1] == (42 ^ 167)\n",
    "assert res[2] == (42 | 167)\n",
    "assert type(res[0]) == type(42 & 167)\n",
    "assert type(res[1]) == type(42 ^ 167)\n",
    "assert type(res[2]) == type(42 | 167)"
   ]
  },
  {
   "cell_type": "code",
   "execution_count": null,
   "metadata": {},
   "outputs": [],
   "source": [
    "c = 1 == 2\n",
    "c"
   ]
  },
  {
   "cell_type": "code",
   "execution_count": null,
   "metadata": {},
   "outputs": [],
   "source": [
    "type(c)"
   ]
  },
  {
   "cell_type": "markdown",
   "metadata": {},
   "source": [
    "## 6.10 Comparisons\n",
    "\n",
    "https://docs.python.org/3/reference/expressions.html#comparisons"
   ]
  },
  {
   "cell_type": "markdown",
   "metadata": {},
   "source": [
    "### 6.10.1 Value Comparisons"
   ]
  },
  {
   "cell_type": "code",
   "execution_count": null,
   "metadata": {},
   "outputs": [],
   "source": [
    "@hybridfunction\n",
    "def compare_values(a,b,c):\n",
    "    c[0] = a < b\n",
    "    c[1] = a > b\n",
    "    c[2] = a == b\n",
    "    c[3] = a >= b\n",
    "    c[4] = a <= b\n",
    "    c[5] = a != b    "
   ]
  },
  {
   "cell_type": "code",
   "execution_count": null,
   "metadata": {},
   "outputs": [],
   "source": [
    "c = [0,0,0,0,0,0]\n",
    "\n",
    "compare_values[1,1](12.3,15,c)\n",
    "assert c == [True,False,False,False,True,True]\n",
    "\n",
    "compare_values[1,1](12,12.3,c)\n",
    "assert c == [True,False,False,False,True,True]"
   ]
  },
  {
   "cell_type": "markdown",
   "metadata": {},
   "source": [
    "TODO : strings and other types"
   ]
  },
  {
   "cell_type": "markdown",
   "metadata": {},
   "source": [
    "## 6.11 Boolean operations\n",
    "\n",
    "https://docs.python.org/3.6/reference/expressions.html#boolean-operations"
   ]
  },
  {
   "cell_type": "code",
   "execution_count": null,
   "metadata": {},
   "outputs": [],
   "source": [
    "@hybridfunction\n",
    "def compare_bool_values(a,b,c):\n",
    "    c[0] = a and b\n",
    "    c[1] = a or b\n",
    "    c[2] = not b"
   ]
  },
  {
   "cell_type": "code",
   "execution_count": null,
   "metadata": {},
   "outputs": [],
   "source": [
    "c = [0,0,0]\n",
    "\n",
    "compare_bool_values[1,1](True, False, c)\n",
    "assert c == [False, True, True]\n",
    "compare_bool_values[1,1](False, 1.0, c)\n",
    "assert c == [1.0 and False, 1.0 or False, not 1.0]\n"
   ]
  },
  {
   "cell_type": "markdown",
   "metadata": {},
   "source": [
    "## 6.12 Conditional expressions\n",
    "\n",
    "https://docs.python.org/3.6/reference/expressions.html#conditional-expressions"
   ]
  },
  {
   "cell_type": "code",
   "execution_count": null,
   "metadata": {},
   "outputs": [],
   "source": [
    "@hybridfunction\n",
    "def conditional_expression(a,b,c,d):\n",
    "    d[0] = a if b else c"
   ]
  },
  {
   "cell_type": "code",
   "execution_count": null,
   "metadata": {},
   "outputs": [],
   "source": [
    "d = [1]\n",
    "\n",
    "conditional_expression[1,1](1.0,False,12,d)\n",
    "assert d[0] == 12\n",
    "conditional_expression[1,1](1.0,True,12,d)\n",
    "assert d[0] == 1.0"
   ]
  }
 ],
 "metadata": {
  "kernelspec": {
   "display_name": "Python 3",
   "language": "python",
   "name": "python3"
  },
  "language_info": {
   "codemirror_mode": {
    "name": "ipython",
    "version": 3
   },
   "file_extension": ".py",
   "mimetype": "text/x-python",
   "name": "python",
   "nbconvert_exporter": "python",
   "pygments_lexer": "ipython3",
   "version": "3.6.5"
  }
 },
 "nbformat": 4,
 "nbformat_minor": 2
}
