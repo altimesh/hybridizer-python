{
 "cells": [
  {
   "cell_type": "markdown",
   "metadata": {},
   "source": [
    "# Bytecode Processing"
   ]
  },
  {
   "cell_type": "code",
   "execution_count": null,
   "metadata": {},
   "outputs": [],
   "source": [
    "import os;\n",
    "os.getpid()"
   ]
  },
  {
   "cell_type": "code",
   "execution_count": null,
   "metadata": {},
   "outputs": [],
   "source": [
    "import hybridcuda\n",
    "import json\n",
    "\n",
    "def inspection(f):\n",
    "    hc = hybridcuda.disassemble(f)\n",
    "    print('=== hybrid ===')\n",
    "    print(hc['hybrid'])\n",
    "    print('=== inspect ===')\n",
    "    print(hc['inspect'])\n",
    "\n",
    "def validate(f):\n",
    "    hc = hybridcuda.disassemble(f)\n",
    "    parsedinspect = json.loads(hc['inspect'])\n",
    "    parsedhybrid = json.loads(hc['hybrid'])\n",
    "    ppinspect = json.dumps(parsedinspect, indent=4, sort_keys=True)\n",
    "    pphybrid = json.dumps(parsedhybrid, indent=4, sort_keys=True)\n",
    "    linesinspect = ppinspect.splitlines()\n",
    "    lineshybrid = pphybrid.splitlines()\n",
    "    if (linesinspect.__len__() != lineshybrid.__len__()):\n",
    "        raise Exception('NOT SAME NUMBER OF LINES')\n",
    "    samecount = 0\n",
    "    for i in range(linesinspect.__len__()):\n",
    "        if (linesinspect[i] == lineshybrid[i]):\n",
    "            samecount = samecount + 1\n",
    "            continue\n",
    "        if ('lineno' in linesinspect[i]):\n",
    "            continue\n",
    "        if ('col_offset' in linesinspect[i]):\n",
    "            continue\n",
    "        print('=== INSPECT ===')\n",
    "        print(linesinspect[i])\n",
    "        print('=== HYBRID ===')\n",
    "        print(lineshybrid[i])\n",
    "        raise Exception('LINE DELTA')\n",
    "    return samecount"
   ]
  },
  {
   "cell_type": "markdown",
   "metadata": {},
   "source": [
    "<a href=\"#HERE\">here</a>"
   ]
  },
  {
   "cell_type": "code",
   "execution_count": null,
   "metadata": {},
   "outputs": [],
   "source": [
    "def disasm_001():\n",
    "    return 42\n",
    "inspection(disasm_001)\n",
    "validate(disasm_001)"
   ]
  },
  {
   "cell_type": "code",
   "execution_count": null,
   "metadata": {},
   "outputs": [],
   "source": [
    "def disasm_002(x):\n",
    "    return x\n",
    "inspection(disasm_002)\n",
    "validate(disasm_002)"
   ]
  },
  {
   "cell_type": "code",
   "execution_count": null,
   "metadata": {},
   "outputs": [],
   "source": [
    "def disasm_003(x,y):\n",
    "    return x+y\n",
    "inspection(disasm_003)\n",
    "validate(disasm_003)"
   ]
  },
  {
   "cell_type": "code",
   "execution_count": null,
   "metadata": {},
   "outputs": [],
   "source": [
    "def disasm_004(x,y):\n",
    "    return x*y\n",
    "inspection(disasm_004)\n",
    "validate(disasm_004)"
   ]
  },
  {
   "cell_type": "code",
   "execution_count": null,
   "metadata": {},
   "outputs": [],
   "source": [
    "def disasm_005(x,y):\n",
    "    x[0] = y\n",
    "inspection(disasm_005)\n",
    "#print(json.dumps(json.loads(hybridcuda.disassemble(disasm_005)['hybrid']), indent=4, sort_keys=True))\n",
    "validate(disasm_005)"
   ]
  },
  {
   "cell_type": "code",
   "execution_count": null,
   "metadata": {},
   "outputs": [],
   "source": [
    "def disasm_006(x,y):\n",
    "    return x[0]\n",
    "inspection(disasm_006)\n",
    "#print(json.dumps(json.loads(hybridcuda.disassemble(disasm_006)['inspect']), indent=4, sort_keys=True))\n",
    "validate(disasm_006)"
   ]
  },
  {
   "cell_type": "code",
   "execution_count": null,
   "metadata": {},
   "outputs": [],
   "source": [
    "def disasm_007(x,y):\n",
    "    # pass INSERTED IN INSPECT BUT NOT VISIBLE IN BYTE CODE !!!\n",
    "    return x[0]\n",
    "inspection(disasm_007)\n",
    "#print(json.dumps(json.loads(hybridcuda.disassemble(disasm_007)['hybrid']), indent=4, sort_keys=True))\n",
    "validate(disasm_007)"
   ]
  },
  {
   "cell_type": "code",
   "execution_count": null,
   "metadata": {},
   "outputs": [],
   "source": [
    "def disasm_008(x,y):\n",
    "    pass\n",
    "inspection(disasm_008)\n",
    "#print(json.dumps(json.loads(hybridcuda.disassemble(disasm_007)['hybrid']), indent=4, sort_keys=True))\n",
    "# NOT SAME NUMBER OF CELLS IS EXPECTED FOR PASS => CANNOT BE RECONSTRUCTED... validate(disasm_008)"
   ]
  },
  {
   "cell_type": "markdown",
   "metadata": {},
   "source": [
    "https://docs.python.org/3.6/library/dis.html#python-bytecode-instructions"
   ]
  },
  {
   "cell_type": "markdown",
   "metadata": {},
   "source": [
    "## Unary operations\n",
    "\n",
    "https://docs.python.org/3.6/library/dis.html#opcode-UNARY_POSITIVE"
   ]
  },
  {
   "cell_type": "code",
   "execution_count": null,
   "metadata": {},
   "outputs": [],
   "source": [
    "def disasm_101(x,y):\n",
    "    x = +x\n",
    "inspection(disasm_101)\n",
    "validate(disasm_101)\n",
    "#import dis\n",
    "#dis.dis(disasm_101)"
   ]
  },
  {
   "cell_type": "code",
   "execution_count": null,
   "metadata": {},
   "outputs": [],
   "source": [
    "def disasm_102(x,y):\n",
    "    x = -x\n",
    "inspection(disasm_102)\n",
    "validate(disasm_102)"
   ]
  },
  {
   "cell_type": "code",
   "execution_count": null,
   "metadata": {},
   "outputs": [],
   "source": [
    "def disasm_103(x,y):\n",
    "    x = not x\n",
    "inspection(disasm_103)\n",
    "validate(disasm_103)"
   ]
  },
  {
   "cell_type": "code",
   "execution_count": null,
   "metadata": {},
   "outputs": [],
   "source": [
    "def disasm_104(x,y):\n",
    "    x = ~ x\n",
    "inspection(disasm_104)\n",
    "validate(disasm_104)"
   ]
  },
  {
   "cell_type": "markdown",
   "metadata": {},
   "source": [
    "TODO: https://docs.python.org/3.6/library/dis.html#opcode-GET_ITER"
   ]
  },
  {
   "cell_type": "markdown",
   "metadata": {},
   "source": [
    "TODO: https://docs.python.org/3.6/library/dis.html#opcode-GET_YIELD_FROM_ITER"
   ]
  },
  {
   "cell_type": "markdown",
   "metadata": {},
   "source": [
    "## Binary operations\n",
    "\n",
    "https://docs.python.org/3.6/library/dis.html#opcode-BINARY_POWER\n"
   ]
  },
  {
   "cell_type": "code",
   "execution_count": null,
   "metadata": {},
   "outputs": [],
   "source": [
    "def disasm_201(x,y):\n",
    "    return x ** y\n",
    "inspection(disasm_201)\n",
    "validate(disasm_201)"
   ]
  },
  {
   "cell_type": "code",
   "execution_count": null,
   "metadata": {},
   "outputs": [],
   "source": [
    "def disasm_202(x,y):\n",
    "    return x * y\n",
    "inspection(disasm_202)\n",
    "validate(disasm_202)"
   ]
  },
  {
   "cell_type": "code",
   "execution_count": null,
   "metadata": {},
   "outputs": [],
   "source": [
    "# TODO ??? MATRIX MULTIPLY ?"
   ]
  },
  {
   "cell_type": "code",
   "execution_count": null,
   "metadata": {},
   "outputs": [],
   "source": [
    "def disasm_204(x,y):\n",
    "    return x // y\n",
    "inspection(disasm_204)\n",
    "validate(disasm_204)"
   ]
  },
  {
   "cell_type": "code",
   "execution_count": null,
   "metadata": {},
   "outputs": [],
   "source": [
    "def disasm_205(x,y):\n",
    "    return x / y\n",
    "inspection(disasm_205)\n",
    "validate(disasm_205)"
   ]
  },
  {
   "cell_type": "code",
   "execution_count": null,
   "metadata": {},
   "outputs": [],
   "source": [
    "def disasm_206(x,y):\n",
    "    return x % y\n",
    "inspection(disasm_206)\n",
    "validate(disasm_206)"
   ]
  },
  {
   "cell_type": "code",
   "execution_count": null,
   "metadata": {},
   "outputs": [],
   "source": [
    "def disasm_207(x,y):\n",
    "    return x + y\n",
    "inspection(disasm_207)\n",
    "validate(disasm_207)"
   ]
  },
  {
   "cell_type": "code",
   "execution_count": null,
   "metadata": {},
   "outputs": [],
   "source": [
    "def disasm_208(x,y):\n",
    "    return x - y\n",
    "inspection(disasm_208)\n",
    "validate(disasm_208)"
   ]
  },
  {
   "cell_type": "code",
   "execution_count": null,
   "metadata": {},
   "outputs": [],
   "source": [
    "def disasm_209(x,y):\n",
    "    return x [y]\n",
    "inspection(disasm_209)\n",
    "validate(disasm_209)"
   ]
  },
  {
   "cell_type": "code",
   "execution_count": null,
   "metadata": {},
   "outputs": [],
   "source": [
    "def disasm_210(x,y):\n",
    "    return x << y\n",
    "inspection(disasm_210)\n",
    "validate(disasm_210)"
   ]
  },
  {
   "cell_type": "code",
   "execution_count": null,
   "metadata": {},
   "outputs": [],
   "source": [
    "def disasm_211(x,y):\n",
    "    return x >> y\n",
    "inspection(disasm_211)\n",
    "validate(disasm_211)"
   ]
  },
  {
   "cell_type": "code",
   "execution_count": null,
   "metadata": {},
   "outputs": [],
   "source": [
    "def disasm_212(x,y):\n",
    "    return x & y\n",
    "inspection(disasm_212)\n",
    "validate(disasm_212)"
   ]
  },
  {
   "cell_type": "code",
   "execution_count": null,
   "metadata": {},
   "outputs": [],
   "source": [
    "def disasm_213(x,y):\n",
    "    return x ^ y\n",
    "inspection(disasm_213)\n",
    "validate(disasm_213)"
   ]
  },
  {
   "cell_type": "code",
   "execution_count": null,
   "metadata": {},
   "outputs": [],
   "source": [
    "def disasm_214(x,y):\n",
    "    return x | y\n",
    "inspection(disasm_214)\n",
    "validate(disasm_214)"
   ]
  },
  {
   "cell_type": "code",
   "execution_count": null,
   "metadata": {},
   "outputs": [],
   "source": [
    "def disasm_215(a,b):\n",
    "    return a and b\n",
    "inspection(disasm_215)\n",
    "validate(disasm_215)\n",
    "\n",
    "import dis\n",
    "dis.dis(disasm_215)"
   ]
  },
  {
   "cell_type": "code",
   "execution_count": null,
   "metadata": {},
   "outputs": [],
   "source": [
    "def disasm_216(a,b):\n",
    "    return a or b\n",
    "inspection(disasm_216)\n",
    "validate(disasm_216)"
   ]
  },
  {
   "cell_type": "code",
   "execution_count": null,
   "metadata": {},
   "outputs": [],
   "source": [
    "def disasm_217(a,b):\n",
    "    return not b\n",
    "inspection(disasm_217)\n",
    "validate(disasm_217)"
   ]
  },
  {
   "cell_type": "code",
   "execution_count": null,
   "metadata": {},
   "outputs": [],
   "source": [
    "def disasm_218(a,b, c, d):\n",
    "    return a and b and c and d\n",
    "inspection(disasm_218)\n",
    "validate(disasm_218)"
   ]
  },
  {
   "cell_type": "code",
   "execution_count": null,
   "metadata": {},
   "outputs": [],
   "source": [
    "def disasm_219(a,b, c, d):\n",
    "    return a or b or c or d\n",
    "inspection(disasm_219)\n",
    "validate(disasm_219)"
   ]
  },
  {
   "cell_type": "code",
   "execution_count": null,
   "metadata": {},
   "outputs": [],
   "source": [
    "def disasm_220(a,b, c):\n",
    "    return a or b and c\n",
    "inspection(disasm_220)\n",
    "validate(disasm_220)"
   ]
  },
  {
   "cell_type": "markdown",
   "metadata": {},
   "source": [
    "## In-place operations\n",
    "\n",
    "https://docs.python.org/3.6/library/dis.html#opcode-INPLACE_POWER\n",
    "https://docs.python.org/3.6/reference/simple_stmts.html#augmented-assignment-statements\n"
   ]
  },
  {
   "cell_type": "code",
   "execution_count": null,
   "metadata": {},
   "outputs": [],
   "source": [
    "def disasm_251(a,b):\n",
    "    a += b\n",
    "    \n",
    "inspection(disasm_251)\n",
    "validate(disasm_251)    "
   ]
  },
  {
   "cell_type": "code",
   "execution_count": null,
   "metadata": {},
   "outputs": [],
   "source": [
    "def disasm_252(a,b):\n",
    "    a -= b\n",
    "    \n",
    "inspection(disasm_252)\n",
    "validate(disasm_252)    "
   ]
  },
  {
   "cell_type": "code",
   "execution_count": null,
   "metadata": {},
   "outputs": [],
   "source": [
    "def disasm_253(a,b):\n",
    "    a *= b\n",
    "    \n",
    "inspection(disasm_253)\n",
    "validate(disasm_253)  "
   ]
  },
  {
   "cell_type": "code",
   "execution_count": null,
   "metadata": {},
   "outputs": [],
   "source": [
    "def disasm_254(a,b):\n",
    "    a /= b\n",
    "    \n",
    "inspection(disasm_254)\n",
    "validate(disasm_254)  "
   ]
  },
  {
   "cell_type": "code",
   "execution_count": null,
   "metadata": {},
   "outputs": [],
   "source": [
    "def disasm_255(a,b):\n",
    "    a //= b\n",
    "    \n",
    "inspection(disasm_255)\n",
    "validate(disasm_255)"
   ]
  },
  {
   "cell_type": "code",
   "execution_count": null,
   "metadata": {},
   "outputs": [],
   "source": [
    "def disasm_256(a,b):\n",
    "    a %= b\n",
    "    \n",
    "inspection(disasm_256)\n",
    "validate(disasm_256)"
   ]
  },
  {
   "cell_type": "code",
   "execution_count": null,
   "metadata": {},
   "outputs": [],
   "source": [
    "def disasm_257(a,b):\n",
    "    a **= b\n",
    "    \n",
    "inspection(disasm_257)\n",
    "validate(disasm_257)"
   ]
  },
  {
   "cell_type": "code",
   "execution_count": null,
   "metadata": {},
   "outputs": [],
   "source": [
    "def disasm_258(a,b):\n",
    "    a >>= b\n",
    "    \n",
    "inspection(disasm_258)\n",
    "validate(disasm_258)"
   ]
  },
  {
   "cell_type": "code",
   "execution_count": null,
   "metadata": {},
   "outputs": [],
   "source": [
    "def disasm_259(a,b):\n",
    "    a <<= b\n",
    "    \n",
    "inspection(disasm_259)\n",
    "validate(disasm_259)"
   ]
  },
  {
   "cell_type": "code",
   "execution_count": null,
   "metadata": {},
   "outputs": [],
   "source": [
    "def disasm_260(a,b):\n",
    "    a &= b\n",
    "    \n",
    "inspection(disasm_260)\n",
    "validate(disasm_260)"
   ]
  },
  {
   "cell_type": "code",
   "execution_count": null,
   "metadata": {},
   "outputs": [],
   "source": [
    "def disasm_261(a,b):\n",
    "    a ^= b\n",
    "    \n",
    "inspection(disasm_261)\n",
    "validate(disasm_261)"
   ]
  },
  {
   "cell_type": "code",
   "execution_count": null,
   "metadata": {},
   "outputs": [],
   "source": [
    "def disasm_262(a,b):\n",
    "    a |= b\n",
    "    \n",
    "inspection(disasm_262)\n",
    "validate(disasm_262)"
   ]
  },
  {
   "cell_type": "markdown",
   "metadata": {},
   "source": [
    "## General instructions\n",
    "\n",
    "https://docs.python.org/3.6/library/dis.html#opcode-NOP"
   ]
  },
  {
   "cell_type": "code",
   "execution_count": null,
   "metadata": {},
   "outputs": [],
   "source": [
    "def disasm_301(a,b):\n",
    "    b[0] += a\n",
    "\n",
    "import dis\n",
    "dis.dis(disasm_301)\n",
    "\n",
    "inspection(disasm_301)\n",
    "validate(disasm_301)"
   ]
  },
  {
   "cell_type": "code",
   "execution_count": null,
   "metadata": {},
   "outputs": [],
   "source": [
    "def disasm_302(x):\n",
    "    print(x)\n",
    "inspection(disasm_302)\n",
    "#print(json.dumps(json.loads(hybridcuda.disassemble(disasm_005)['hybrid']), indent=4, sort_keys=True))\n",
    "\n",
    "import dis\n",
    "dis.dis(disasm_302)\n",
    "\n",
    "validate(disasm_302)"
   ]
  },
  {
   "cell_type": "markdown",
   "metadata": {},
   "source": [
    "## Coroutine opcodes\n",
    "\n",
    "https://docs.python.org/3.6/library/dis.html#opcode-GET_AWAITABLE\n",
    "\n",
    "*SUPPORT ?*"
   ]
  },
  {
   "cell_type": "markdown",
   "metadata": {},
   "source": [
    "## Miscellaneous opcodes\n",
    "\n",
    "https://docs.python.org/3.6/library/dis.html#opcode-PRINT_EXPR\n",
    "\n"
   ]
  },
  {
   "cell_type": "code",
   "execution_count": null,
   "metadata": {},
   "outputs": [],
   "source": [
    "def disasm_501(a,b):\n",
    "    a = 1 if b else 2\n",
    "\n",
    "inspection(disasm_501)\n",
    "validate(disasm_501)"
   ]
  },
  {
   "cell_type": "code",
   "execution_count": null,
   "metadata": {},
   "outputs": [],
   "source": [
    "def disasm_502(a,b):\n",
    "    a = 1 if b else 2 if a else 3\n",
    "\n",
    "inspection(disasm_502)\n",
    "validate(disasm_502)"
   ]
  },
  {
   "cell_type": "code",
   "execution_count": null,
   "metadata": {},
   "outputs": [],
   "source": [
    "def disasm_503(a,b):\n",
    "    if b:\n",
    "        a = 1\n",
    "    else:\n",
    "        a = 2\n",
    "        \n",
    "inspection(disasm_503)\n",
    "validate(disasm_503)"
   ]
  },
  {
   "cell_type": "code",
   "execution_count": null,
   "metadata": {},
   "outputs": [],
   "source": [
    "def disasm_504(a,b):\n",
    "    if b:\n",
    "        a = 1\n",
    "\n",
    "inspection(disasm_504)\n",
    "validate(disasm_504)"
   ]
  },
  {
   "cell_type": "code",
   "execution_count": null,
   "metadata": {},
   "outputs": [],
   "source": [
    "def disasm_505(a,b,c):\n",
    "    if a:\n",
    "        if b:\n",
    "            c = 1\n",
    "        else:\n",
    "            c = 2\n",
    "    else:\n",
    "        if b:\n",
    "            c = 3\n",
    "        else:\n",
    "            c = 4\n",
    "        \n",
    "#import dis\n",
    "#dis.dis(disasm_505)\n",
    "\n",
    "#hc = hybridcuda.disassemble(disasm_505)\n",
    "#import json\n",
    "#parsed = json.loads(hc['hybrid'])\n",
    "#json.dumps(parsed, indent=4, sort_keys=True).splitlines()\n",
    "\n",
    "inspection(disasm_505)\n",
    "validate(disasm_505)"
   ]
  },
  {
   "cell_type": "code",
   "execution_count": null,
   "metadata": {},
   "outputs": [],
   "source": [
    "def disasm_506(a,b,c):\n",
    "    if a:\n",
    "        if b:\n",
    "            c = 1\n",
    "    else:\n",
    "        if b:\n",
    "            c = 3\n",
    "        else:\n",
    "            c = 4\n",
    "        \n",
    "inspection(disasm_506)\n",
    "validate(disasm_506)"
   ]
  },
  {
   "cell_type": "code",
   "execution_count": null,
   "metadata": {},
   "outputs": [],
   "source": [
    "def disasm_507(a,b,c):\n",
    "    if a:\n",
    "        if b:\n",
    "            c = 1\n",
    "    else:\n",
    "        if b:\n",
    "            c = 3\n",
    "        \n",
    "inspection(disasm_507)\n",
    "validate(disasm_507)"
   ]
  },
  {
   "cell_type": "code",
   "execution_count": null,
   "metadata": {},
   "outputs": [],
   "source": [
    "def disasm_508(a,b,c):\n",
    "    if a:\n",
    "        if b:\n",
    "            c = 1\n",
    "        else:\n",
    "            c = 2\n",
    "    else:\n",
    "        if b:\n",
    "            c = 3\n",
    "        \n",
    "inspection(disasm_508)\n",
    "validate(disasm_508)"
   ]
  },
  {
   "cell_type": "code",
   "execution_count": null,
   "metadata": {},
   "outputs": [],
   "source": [
    "def disasm_509(a,b,c):\n",
    "    c[0] = a < b\n",
    "    c[1] = a > b\n",
    "    c[2] = a != b\n",
    "    c[3] = a == b\n",
    "    c[4] = a <= b\n",
    "    c[5] = a >= b\n",
    "    \n",
    "#import dis\n",
    "#dis.dis(disasm_509)\n",
    "\n",
    "inspection(disasm_509)\n",
    "validate(disasm_509)\n",
    "\n",
    "# CAVEAT : multiple compares are not supported"
   ]
  },
  {
   "cell_type": "code",
   "execution_count": null,
   "metadata": {},
   "outputs": [],
   "source": [
    "def disasm_510(a,b):\n",
    "    x = 0\n",
    "    while (x < a):\n",
    "        x = x + 1\n",
    "        \n",
    "import dis\n",
    "dis.dis(disasm_510)\n",
    "\n",
    "inspection(disasm_510)\n",
    "validate(disasm_510)\n",
    "\n",
    "# hc = hybridcuda.disassemble(disasm_510)\n",
    "# import json\n",
    "# parsed = json.loads(hc['inspect'])\n",
    "# print(json.dumps(parsed, indent=4, sort_keys=True))"
   ]
  },
  {
   "cell_type": "code",
   "execution_count": null,
   "metadata": {},
   "outputs": [],
   "source": [
    "def disasm_511(a,b):\n",
    "    x = 0\n",
    "    while (x < a):\n",
    "        x = x + 1\n",
    "    x = x - 1\n",
    "        \n",
    "import dis\n",
    "dis.dis(disasm_511)\n",
    "\n",
    "inspection(disasm_511)\n",
    "validate(disasm_511)"
   ]
  },
  {
   "cell_type": "code",
   "execution_count": null,
   "metadata": {},
   "outputs": [],
   "source": [
    "def disasm_512(a,b):\n",
    "    x = 0\n",
    "    while (x < a):\n",
    "        x = x + 1\n",
    "        break\n",
    "    x = x - 1\n",
    "        \n",
    "import dis\n",
    "dis.dis(disasm_512)\n",
    "\n",
    "inspection(disasm_512)\n",
    "validate(disasm_512)"
   ]
  },
  {
   "cell_type": "code",
   "execution_count": null,
   "metadata": {},
   "outputs": [],
   "source": [
    "# TODO ? print_expr"
   ]
  },
  {
   "cell_type": "code",
   "execution_count": null,
   "metadata": {},
   "outputs": [],
   "source": [
    "def disasm_513():\n",
    "    for i in range(1):\n",
    "        x = x+i\n",
    "\n",
    "import dis\n",
    "dis.dis(disasm_513)\n",
    "\n",
    "inspection(disasm_513)\n",
    "validate(disasm_513)"
   ]
  },
  {
   "cell_type": "code",
   "execution_count": null,
   "metadata": {},
   "outputs": [],
   "source": [
    "def disasm_514():\n",
    "    for i in range(1):\n",
    "        x = x+i\n",
    "        if (x > 3):\n",
    "            continue\n",
    "\n",
    "import dis\n",
    "dis.dis(disasm_514)\n",
    "\n",
    "inspection(disasm_514)\n",
    "validate(disasm_514)"
   ]
  },
  {
   "cell_type": "code",
   "execution_count": null,
   "metadata": {},
   "outputs": [],
   "source": [
    "def disasm_601(a,b):\n",
    "    assert (a == b[0])\n",
    "    \n",
    "import dis\n",
    "dis.dis(disasm_601)\n",
    "\n",
    "inspection(disasm_601)\n",
    "validate(disasm_601)"
   ]
  },
  {
   "cell_type": "code",
   "execution_count": null,
   "metadata": {},
   "outputs": [],
   "source": [
    "def disasm_602(a,b):\n",
    "    assert (a == b[0]), 'delta'\n",
    "    \n",
    "import dis\n",
    "dis.dis(disasm_602)\n",
    "\n",
    "inspection(disasm_602)\n",
    "validate(disasm_602)"
   ]
  },
  {
   "cell_type": "markdown",
   "metadata": {},
   "source": [
    "# HERE\n",
    "<a href=\"#Bytecode-Processing\">head</a>"
   ]
  },
  {
   "cell_type": "code",
   "execution_count": null,
   "metadata": {},
   "outputs": [],
   "source": [
    "import hybridcuda\n",
    "import json\n",
    "\n",
    "def inspection(f):\n",
    "    hc = hybridcuda.disassemble(f)\n",
    "    print('=== hybrid ===')\n",
    "    print(hc['hybrid'])\n",
    "    print('=== inspect ===')\n",
    "    print(hc['inspect'])\n",
    "\n",
    "def validate(f):\n",
    "    hc = hybridcuda.disassemble(f)\n",
    "    parsedinspect = json.loads(hc['inspect'])\n",
    "    parsedhybrid = json.loads(hc['hybrid'])\n",
    "    ppinspect = json.dumps(parsedinspect, indent=4, sort_keys=True)\n",
    "    pphybrid = json.dumps(parsedhybrid, indent=4, sort_keys=True)\n",
    "    linesinspect = ppinspect.splitlines()\n",
    "    lineshybrid = pphybrid.splitlines()\n",
    "    if (linesinspect.__len__() != lineshybrid.__len__()):\n",
    "        raise Exception('NOT SAME NUMBER OF LINES')\n",
    "    samecount = 0\n",
    "    for i in range(linesinspect.__len__()):\n",
    "        if (linesinspect[i] == lineshybrid[i]):\n",
    "            samecount = samecount + 1\n",
    "            continue\n",
    "        if ('lineno' in linesinspect[i]):\n",
    "            continue\n",
    "        if ('col_offset' in linesinspect[i]):\n",
    "            continue\n",
    "        print('=== INSPECT ===')\n",
    "        print(linesinspect[i])\n",
    "        print('=== HYBRID ===')\n",
    "        print(lineshybrid[i])\n",
    "        raise Exception('LINE DELTA')\n",
    "    return samecount\n",
    "\n",
    "import os;\n",
    "os.getpid()"
   ]
  },
  {
   "cell_type": "code",
   "execution_count": null,
   "metadata": {},
   "outputs": [],
   "source": [
    "def disasm_701(x,y):\n",
    "    w = lambda a,b : x + y\n",
    "    return w\n",
    "\n",
    "w = disasm_701(30,12)\n",
    "inspection(w)\n",
    "# -- INSPECT FAILS FOR LAMBDAS => would not match anyway since names are different -- validate(w)"
   ]
  },
  {
   "cell_type": "raw",
   "metadata": {},
   "source": [
    "===END==="
   ]
  },
  {
   "cell_type": "markdown",
   "metadata": {},
   "source": [
    "# SANDBOX"
   ]
  },
  {
   "cell_type": "code",
   "execution_count": null,
   "metadata": {},
   "outputs": [],
   "source": [
    "import dis\n",
    "dis.dis(disasm_007)"
   ]
  },
  {
   "cell_type": "code",
   "execution_count": null,
   "metadata": {},
   "outputs": [],
   "source": [
    "'hell' in 'hello'"
   ]
  },
  {
   "cell_type": "code",
   "execution_count": null,
   "metadata": {},
   "outputs": [],
   "source": []
  },
  {
   "cell_type": "code",
   "execution_count": null,
   "metadata": {},
   "outputs": [],
   "source": [
    "hc = hybridcuda.disassemble(disasm_003)\n",
    "\n",
    "import json\n",
    "parsed = json.loads(hc['inspect'])\n",
    "json.dumps(parsed, indent=4, sort_keys=True).splitlines().__len__()"
   ]
  },
  {
   "cell_type": "code",
   "execution_count": null,
   "metadata": {},
   "outputs": [],
   "source": [
    "print(hc['inspect'])"
   ]
  },
  {
   "cell_type": "code",
   "execution_count": null,
   "metadata": {},
   "outputs": [],
   "source": [
    "import dis\n",
    "dis.dis(disasm_001)"
   ]
  },
  {
   "cell_type": "code",
   "execution_count": null,
   "metadata": {},
   "outputs": [],
   "source": [
    "def f(x,y):\n",
    "    a = x+y\n",
    "    \n",
    "    k = \"hello\"\n",
    "    w = 42\n",
    "    return a\n",
    "\n",
    "def g():\n",
    "    return 42;\n",
    "\n",
    "print(getattr(getattr(f, '__code__'), 'co_code'))\n",
    "print(getattr(getattr(f, '__code__'), 'co_consts'))\n",
    "print(getattr(getattr(f, '__code__'), 'co_argcount'))\n",
    "print(getattr(getattr(f, '__code__'), 'co_freevars'))\n",
    "print(getattr(getattr(f, '__code__'), 'co_cellvars'))\n",
    "print(getattr(getattr(f, '__code__'), 'co_varnames'))\n",
    "print(getattr(getattr(f, '__code__'), 'co_nlocals'))\n",
    "print(getattr(getattr(f, '__code__'), 'co_lnotab'))\n",
    "print(getattr(getattr(f, '__code__'), 'co_stacksize'))\n",
    "print(getattr(getattr(f, '__code__'), 'co_firstlineno'))\n",
    "\n",
    "print(getattr(getattr(g, '__code__'), 'co_firstlineno'))"
   ]
  },
  {
   "cell_type": "code",
   "execution_count": null,
   "metadata": {},
   "outputs": [],
   "source": [
    "def arithmetic_convert_001(a,b,c):\n",
    "    c[0] = a + b\n",
    "    \n",
    "import dis\n",
    "dis.dis(arithmetic_convert_001)"
   ]
  },
  {
   "cell_type": "code",
   "execution_count": null,
   "metadata": {},
   "outputs": [],
   "source": [
    "def multiassign(a,b,c):\n",
    "    x,y = a,b\n",
    "    c[0] = (x,y)\n",
    "    \n",
    "import dis\n",
    "dis.dis(multiassign)"
   ]
  },
  {
   "cell_type": "code",
   "execution_count": null,
   "metadata": {},
   "outputs": [],
   "source": [
    "import dis\n",
    "dis.dis(f)"
   ]
  },
  {
   "cell_type": "code",
   "execution_count": null,
   "metadata": {},
   "outputs": [],
   "source": [
    "type(getattr(getattr(f, '__code__'), 'co_varnames')[0])"
   ]
  },
  {
   "cell_type": "code",
   "execution_count": null,
   "metadata": {},
   "outputs": [],
   "source": [
    "def g():\n",
    "    return 'hello'\n",
    "print(getattr(getattr(g, '__code__'), 'co_code'))"
   ]
  },
  {
   "cell_type": "code",
   "execution_count": null,
   "metadata": {},
   "outputs": [],
   "source": [
    "dis.dis(g)"
   ]
  },
  {
   "cell_type": "code",
   "execution_count": null,
   "metadata": {},
   "outputs": [],
   "source": [
    "dir(getattr(g, '__code__'))"
   ]
  },
  {
   "cell_type": "code",
   "execution_count": null,
   "metadata": {},
   "outputs": [],
   "source": [
    "2+2"
   ]
  },
  {
   "cell_type": "code",
   "execution_count": null,
   "metadata": {},
   "outputs": [],
   "source": [
    "def somme(x,y):\n",
    "    return x+y\n"
   ]
  },
  {
   "cell_type": "code",
   "execution_count": null,
   "metadata": {},
   "outputs": [],
   "source": [
    "somme(30,12)"
   ]
  },
  {
   "cell_type": "code",
   "execution_count": null,
   "metadata": {},
   "outputs": [],
   "source": [
    "somme(10,8)"
   ]
  },
  {
   "cell_type": "code",
   "execution_count": null,
   "metadata": {},
   "outputs": [],
   "source": [
    "def f(N : int, a):\n",
    "    return a + N\n",
    "\n",
    "print(getattr(getattr(f, '__code__'), 'co_code'))\n",
    "print(getattr(getattr(f, '__code__'), 'co_consts'))\n",
    "print(getattr(getattr(f, '__code__'), 'co_argcount'))\n",
    "print(getattr(getattr(f, '__code__'), 'co_freevars'))\n",
    "print(getattr(getattr(f, '__code__'), 'co_cellvars'))\n",
    "print(getattr(getattr(f, '__code__'), 'co_varnames'))\n",
    "print(getattr(getattr(f, '__code__'), 'co_nlocals'))\n",
    "print(getattr(getattr(f, '__code__'), 'co_lnotab'))\n",
    "print(getattr(getattr(f, '__code__'), 'co_stacksize'))\n",
    "print(getattr(getattr(f, '__code__'), 'co_flags'))\n",
    "print(getattr(getattr(f, '__code__'), '__repr__')())\n",
    "dir(getattr(f, '__code__'))\n",
    "#type(getattr(getattr(f, '__code__'), 'co_flags'))"
   ]
  },
  {
   "cell_type": "code",
   "execution_count": null,
   "metadata": {},
   "outputs": [],
   "source": []
  }
 ],
 "metadata": {
  "kernelspec": {
   "display_name": "Python 3",
   "language": "python",
   "name": "python3"
  },
  "language_info": {
   "codemirror_mode": {
    "name": "ipython",
    "version": 3
   },
   "file_extension": ".py",
   "mimetype": "text/x-python",
   "name": "python",
   "nbconvert_exporter": "python",
   "pygments_lexer": "ipython3",
   "version": "3.6.5"
  }
 },
 "nbformat": 4,
 "nbformat_minor": 2
}
