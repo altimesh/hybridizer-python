{
 "cells": [
  {
   "cell_type": "code",
   "execution_count": null,
   "metadata": {},
   "outputs": [],
   "source": [
    "import os\n",
    "os.getpid()"
   ]
  },
  {
   "cell_type": "code",
   "execution_count": null,
   "metadata": {},
   "outputs": [],
   "source": [
    "import inspect\n",
    "import hybridcuda\n",
    "cures = hybridcuda.initcuda()\n",
    "hybridcuda.registerheader(\"hybpython.cuh\", os.getcwd() + os.sep + \"..\" + os.sep + \"..\" + os.sep + \"hybpython.cuh\")\n",
    "assert cures == 0"
   ]
  },
  {
   "cell_type": "code",
   "execution_count": null,
   "metadata": {},
   "outputs": [],
   "source": [
    "class hybridkernel:\n",
    "    gridDimX = 1\n",
    "    blockDimX = 1\n",
    "    shared = 0\n",
    "    stream = 0\n",
    "    def __init__(self, func):\n",
    "        self.hc = hybridcuda.processfunction(func)\n",
    "        self.hc = hybridcuda.cudajitcode(self.hc)\n",
    "        self.hc = hybridcuda.ptxlinkcode(self.hc)\n",
    "        \n",
    "    def __call__(self, *args):\n",
    "        self.hc = hybridcuda.launch(self.hc, self.gridDimX,1,1, self.blockDimX,1,1, self.shared,self.stream, *args)\n",
    "\n",
    "    def __getitem__(self, args):\n",
    "        if (type(args) != tuple):\n",
    "            self.grid = args\n",
    "            return self\n",
    "        # args is a tuple...\n",
    "        if (len(args) > 0):\n",
    "            self.grid = args[0]\n",
    "        if (len(args) > 1):\n",
    "            self.block = args[1]\n",
    "        if (len(args) > 2):\n",
    "            self.shared = args[2]\n",
    "        if (len(args) > 3):\n",
    "            self.stream = args[3]\n",
    "        return self\n",
    "\n",
    "#decorator definition\n",
    "def hybridfunction(func):\n",
    "    return hybridkernel(func)"
   ]
  },
  {
   "cell_type": "code",
   "execution_count": null,
   "metadata": {},
   "outputs": [],
   "source": [
    "class intrinsic_function_class(object):\n",
    "    __hybrid_cuda__func__ = None\n",
    "    __hybrid_cuda__intrinsic_function__ = ''\n",
    "    def __init__(self, func, intrinsic):\n",
    "        self.__hybrid_cuda__func__ = func\n",
    "        self.__hybrid_cuda__intrinsic_function__ = intrinsic\n",
    "\n",
    "    def __call__(self, *args):\n",
    "        return self.__hybrid_cuda__func__(*args)\n",
    "\n",
    "\n",
    "def intrinsic_function(intrinsicname):\n",
    "    def decorator(func):\n",
    "        return intrinsic_function_class(func, intrinsicname)\n",
    "    return decorator\n",
    "\n",
    "class intrinsic_constant_class(object):\n",
    "    __hybrid_cuda__func__ = None\n",
    "    __hybrid_cuda__intrinsic_constant__ = ''\n",
    "    def __init__(self, func, intrinsic):\n",
    "        self.__hybrid_cuda__func__ = func\n",
    "        self.__hybrid_cuda__intrinsic_constant__ = intrinsic\n",
    "\n",
    "    def __call__(self, *args):\n",
    "        return self.__hybrid_cuda__func__(*args)\n",
    "\n",
    "\n",
    "def intrinsic_constant(intrinsicname):\n",
    "    def decorator(func):\n",
    "        return intrinsic_constant_class(func, intrinsicname)\n",
    "    return decorator\n",
    "\n",
    "@intrinsic_function('__syncthreads')\n",
    "def __syncthreads() -> None:\n",
    "    pass\n"
   ]
  },
  {
   "cell_type": "code",
   "execution_count": null,
   "metadata": {},
   "outputs": [],
   "source": [
    "@hybridfunction\n",
    "def callsyncthreads():\n",
    "    __syncthreads()\n",
    "\n",
    "callsyncthreads[1,32]()"
   ]
  },
  {
   "cell_type": "code",
   "execution_count": null,
   "metadata": {},
   "outputs": [],
   "source": [
    "@intrinsic_constant('42')\n",
    "def answer() -> int:\n",
    "    return 42\n",
    "\n",
    "@hybridfunction\n",
    "def callanswer(d):\n",
    "    d[0] = answer()\n",
    "\n",
    "d = [0]\n",
    "callanswer[1,1](d)\n",
    "\n",
    "assert d[0] == 42"
   ]
  },
  {
   "cell_type": "markdown",
   "metadata": {},
   "source": [
    "### Grid Indices"
   ]
  },
  {
   "cell_type": "code",
   "execution_count": null,
   "metadata": {},
   "outputs": [],
   "source": [
    "class threadIdx(object):\n",
    "    __hybrid_cuda__intrinsic_type__ = \"threadIdx\"\n",
    "    x : int = 0\n",
    "    y : int = 0\n",
    "    z : int = 0\n",
    "        \n",
    "class blockIdx(object):\n",
    "    __hybrid_cuda__intrinsic_type__ = \"blockIdx\"\n",
    "    x : int = 0\n",
    "    y : int = 0\n",
    "    z : int = 0\n",
    "        \n",
    "class blockDim(object):\n",
    "    __hybrid_cuda__intrinsic_type__ = \"blockDim\"\n",
    "    x : int = 1\n",
    "    y : int = 1\n",
    "    z : int = 1\n",
    "        \n",
    "class gridDim(object):\n",
    "    __hybrid_cuda__intrinsic_type__ = \"gridDim\"\n",
    "    x : int = 1\n",
    "    y : int = 1\n",
    "    z : int = 1"
   ]
  },
  {
   "cell_type": "code",
   "execution_count": null,
   "metadata": {},
   "outputs": [],
   "source": [
    "@hybridfunction\n",
    "def getthreadidx(d):\n",
    "    d[0] = threadIdx.x + 42\n",
    "\n",
    "d = [0]\n",
    "getthreadidx[1,1](d)\n",
    "assert d[0] == 42"
   ]
  },
  {
   "cell_type": "code",
   "execution_count": null,
   "metadata": {},
   "outputs": [],
   "source": []
  }
 ],
 "metadata": {
  "kernelspec": {
   "display_name": "Python 3",
   "language": "python",
   "name": "python3"
  },
  "language_info": {
   "codemirror_mode": {
    "name": "ipython",
    "version": 3
   },
   "file_extension": ".py",
   "mimetype": "text/x-python",
   "name": "python",
   "nbconvert_exporter": "python",
   "pygments_lexer": "ipython3",
   "version": "3.6.5"
  }
 },
 "nbformat": 4,
 "nbformat_minor": 2
}
