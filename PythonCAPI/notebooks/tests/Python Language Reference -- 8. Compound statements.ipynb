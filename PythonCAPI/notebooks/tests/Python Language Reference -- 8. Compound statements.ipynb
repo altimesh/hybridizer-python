{
 "cells": [
  {
   "cell_type": "markdown",
   "metadata": {},
   "source": [
    "From : https://docs.python.org/3.6/reference/compound_stmts.html"
   ]
  },
  {
   "cell_type": "code",
   "execution_count": null,
   "metadata": {},
   "outputs": [],
   "source": [
    "import os\n",
    "os.getpid()"
   ]
  },
  {
   "cell_type": "code",
   "execution_count": null,
   "metadata": {},
   "outputs": [],
   "source": [
    "import inspect\n",
    "import hybridcuda\n",
    "hybridcuda.registerheader(\"hybpython.cuh\", os.getcwd() + os.sep + \"..\" + os.sep + \"..\" + os.sep + \"hybpython.cuh\")\n",
    "cures = hybridcuda.initcuda()\n",
    "assert cures == 0"
   ]
  },
  {
   "cell_type": "code",
   "execution_count": null,
   "metadata": {},
   "outputs": [],
   "source": [
    "class hybridkernel:\n",
    "    gridDimX = 1\n",
    "    blockDimX = 1\n",
    "    shared = 0\n",
    "    stream = 0\n",
    "    def __init__(self, func):\n",
    "        self.hc = hybridcuda.processfunction(func)\n",
    "        self.hc = hybridcuda.cudajitcode(self.hc)\n",
    "        self.hc = hybridcuda.ptxlinkcode(self.hc)\n",
    "        \n",
    "    def __call__(self, *args):\n",
    "        self.hc = hybridcuda.launch(self.hc, self.gridDimX,1,1, self.blockDimX,1,1, self.shared,self.stream, *args)\n",
    "\n",
    "    def __getitem__(self, args):\n",
    "        if (type(args) != tuple):\n",
    "            self.grid = args\n",
    "            return self\n",
    "        # args is a tuple...\n",
    "        if (len(args) > 0):\n",
    "            self.grid = args[0]\n",
    "        if (len(args) > 1):\n",
    "            self.block = args[1]\n",
    "        if (len(args) > 2):\n",
    "            self.shared = args[2]\n",
    "        if (len(args) > 3):\n",
    "            self.stream = args[3]\n",
    "        return self\n",
    "\n",
    "#decorator definition\n",
    "def hybridfunction(func):\n",
    "    return hybridkernel(func)"
   ]
  },
  {
   "cell_type": "markdown",
   "metadata": {},
   "source": [
    "# 8. Compound statements\n"
   ]
  },
  {
   "cell_type": "markdown",
   "metadata": {},
   "source": [
    "## 8.1 The `if` statement\n",
    "\n",
    "https://docs.python.org/3.6/reference/compound_stmts.html#the-if-statement"
   ]
  },
  {
   "cell_type": "markdown",
   "metadata": {},
   "source": [
    "## 8.2 The `while` statement\n",
    "\n",
    "https://docs.python.org/3.6/reference/compound_stmts.html#the-while-statement"
   ]
  },
  {
   "cell_type": "code",
   "execution_count": null,
   "metadata": {},
   "outputs": [],
   "source": [
    "@hybridfunction\n",
    "def compound_while(a,b):\n",
    "    x = 0\n",
    "    while (x < a):\n",
    "        b[0] = b[0] + 1\n",
    "        x = x + 1"
   ]
  },
  {
   "cell_type": "code",
   "execution_count": null,
   "metadata": {},
   "outputs": [],
   "source": [
    "b = [0]\n",
    "a = 42\n",
    "\n",
    "compound_while[1,1](a,b)\n",
    "assert b == [42]"
   ]
  },
  {
   "cell_type": "markdown",
   "metadata": {},
   "source": [
    "## 8.3 The `for` statement\n",
    "\n",
    "https://docs.python.org/3.6/reference/compound_stmts.html#the-for-statement"
   ]
  },
  {
   "cell_type": "markdown",
   "metadata": {},
   "source": [
    "## 8.6 Function definitions\n",
    "\n",
    "https://docs.python.org/3.6/reference/compound_stmts.html#function-definitions"
   ]
  },
  {
   "cell_type": "code",
   "execution_count": null,
   "metadata": {},
   "outputs": [],
   "source": [
    "def add(x,y):\n",
    "    return x+y\n",
    "\n",
    "@hybridfunction\n",
    "def callfunc(a,b,c):\n",
    "    c[0] = add(a,b)"
   ]
  },
  {
   "cell_type": "code",
   "execution_count": null,
   "metadata": {},
   "outputs": [],
   "source": [
    "c = [0]\n",
    "\n",
    "callfunc[1,1](30.0, 12, c)\n",
    "assert c == [42.0]"
   ]
  },
  {
   "cell_type": "code",
   "execution_count": null,
   "metadata": {},
   "outputs": [],
   "source": []
  }
 ],
 "metadata": {
  "kernelspec": {
   "display_name": "Python 3",
   "language": "python",
   "name": "python3"
  },
  "language_info": {
   "codemirror_mode": {
    "name": "ipython",
    "version": 3
   },
   "file_extension": ".py",
   "mimetype": "text/x-python",
   "name": "python",
   "nbconvert_exporter": "python",
   "pygments_lexer": "ipython3",
   "version": "3.6.5"
  }
 },
 "nbformat": 4,
 "nbformat_minor": 2
}
