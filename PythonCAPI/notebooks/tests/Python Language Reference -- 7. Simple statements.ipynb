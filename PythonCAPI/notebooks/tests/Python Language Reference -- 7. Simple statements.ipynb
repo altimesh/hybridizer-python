{
 "cells": [
  {
   "cell_type": "markdown",
   "metadata": {},
   "source": [
    "From : https://docs.python.org/3.6/reference/index.html"
   ]
  },
  {
   "cell_type": "code",
   "execution_count": null,
   "metadata": {},
   "outputs": [],
   "source": [
    "import os\n",
    "os.getpid()"
   ]
  },
  {
   "cell_type": "code",
   "execution_count": null,
   "metadata": {},
   "outputs": [],
   "source": [
    "import inspect\n",
    "import hybridcuda\n",
    "cures = hybridcuda.initcuda()\n",
    "hybridcuda.registerheader(\"hybpython.cuh\", os.getcwd() + os.sep + \"..\" + os.sep + \"..\" + os.sep + \"hybpython.cuh\")\n",
    "assert cures == 0"
   ]
  },
  {
   "cell_type": "code",
   "execution_count": null,
   "metadata": {},
   "outputs": [],
   "source": [
    "class hybridkernel:\n",
    "    gridDimX = 1\n",
    "    blockDimX = 1\n",
    "    shared = 0\n",
    "    stream = 0\n",
    "    def __init__(self, func):\n",
    "        self.hc = hybridcuda.processfunction(func)\n",
    "        self.hc = hybridcuda.cudajitcode(self.hc)\n",
    "        self.hc = hybridcuda.ptxlinkcode(self.hc)\n",
    "        \n",
    "    def __call__(self, *args):\n",
    "        self.hc = hybridcuda.launch(self.hc, self.gridDimX,1,1, self.blockDimX,1,1, self.shared,self.stream, *args)\n",
    "\n",
    "    def __getitem__(self, args):\n",
    "        if (type(args) != tuple):\n",
    "            self.grid = args\n",
    "            return self\n",
    "        # args is a tuple...\n",
    "        if (len(args) > 0):\n",
    "            self.grid = args[0]\n",
    "        if (len(args) > 1):\n",
    "            self.block = args[1]\n",
    "        if (len(args) > 2):\n",
    "            self.shared = args[2]\n",
    "        if (len(args) > 3):\n",
    "            self.stream = args[3]\n",
    "        return self\n",
    "\n",
    "#decorator definition\n",
    "def hybridfunction(func):\n",
    "    return hybridkernel(func)"
   ]
  },
  {
   "cell_type": "markdown",
   "metadata": {},
   "source": [
    "# 7. Simple statements\n",
    "\n",
    "https://docs.python.org/3.6/reference/simple_stmts.html\n",
    "\n"
   ]
  },
  {
   "cell_type": "markdown",
   "metadata": {},
   "source": [
    "## 7.1 Expression statements\n",
    "\n",
    "https://docs.python.org/3.6/reference/simple_stmts.html#expression-statements\n",
    "\n"
   ]
  },
  {
   "cell_type": "code",
   "execution_count": null,
   "metadata": {},
   "outputs": [],
   "source": [
    "# no example here..."
   ]
  },
  {
   "cell_type": "markdown",
   "metadata": {},
   "source": [
    "## 7.2 Assignment statements\n",
    "\n",
    "https://docs.python.org/3.6/reference/simple_stmts.html#assignment-statements\n",
    "\n",
    "\n"
   ]
  },
  {
   "cell_type": "code",
   "execution_count": null,
   "metadata": {},
   "outputs": [],
   "source": [
    "@hybridfunction\n",
    "def assign_001(a,b):\n",
    "    b[0] = a\n",
    "\n",
    "b = [0]    \n",
    "\n",
    "assign_001[1,1](42,b)\n",
    "\n",
    "assert b == [42]"
   ]
  },
  {
   "cell_type": "markdown",
   "metadata": {},
   "source": [
    "### 7.2.1 Augmented assignment statements\n",
    "\n",
    "https://docs.python.org/3.6/reference/simple_stmts.html#augmented-assignment-statements\n",
    "\n"
   ]
  },
  {
   "cell_type": "code",
   "execution_count": null,
   "metadata": {},
   "outputs": [],
   "source": [
    "@hybridfunction\n",
    "def aug_assign_001(a,b):\n",
    "    a += a\n",
    "    b[0] += a\n",
    "\n",
    "b = [12]\n",
    "\n",
    "aug_assign_001[1,1](15,b)\n",
    "\n",
    "assert b == [42]"
   ]
  },
  {
   "cell_type": "code",
   "execution_count": null,
   "metadata": {},
   "outputs": [],
   "source": [
    "@hybridfunction\n",
    "def aug_assign_002(a,b):\n",
    "    b[0] -= a\n",
    "\n",
    "b = [50]\n",
    "\n",
    "aug_assign_002[1,1](8,b)\n",
    "\n",
    "assert b == [42]"
   ]
  },
  {
   "cell_type": "code",
   "execution_count": null,
   "metadata": {},
   "outputs": [],
   "source": [
    "@hybridfunction\n",
    "def aug_assign_003(a,b):\n",
    "    b[0] *= a\n",
    "\n",
    "b = [21]\n",
    "\n",
    "aug_assign_003[1,1](2,b)\n",
    "\n",
    "assert b == [42]"
   ]
  },
  {
   "cell_type": "code",
   "execution_count": null,
   "metadata": {},
   "outputs": [],
   "source": [
    "@hybridfunction\n",
    "def aug_assign_004(a,b):\n",
    "    b[0] /= a\n",
    "\n",
    "b = [84]\n",
    "\n",
    "aug_assign_004[1,1](2,b)\n",
    "\n",
    "assert b == [84/2]"
   ]
  },
  {
   "cell_type": "code",
   "execution_count": null,
   "metadata": {},
   "outputs": [],
   "source": [
    "@hybridfunction\n",
    "def aug_assign_005(a,b):\n",
    "    b[0] //= a\n",
    "\n",
    "b = [84]\n",
    "\n",
    "aug_assign_005[1,1](2,b)\n",
    "\n",
    "assert b == [84//2]"
   ]
  },
  {
   "cell_type": "code",
   "execution_count": null,
   "metadata": {},
   "outputs": [],
   "source": [
    "@hybridfunction\n",
    "def aug_assign_006(a,b):\n",
    "    b[0] %= a\n",
    "\n",
    "b = [142]\n",
    "\n",
    "aug_assign_006[1,1](100,b)\n",
    "\n",
    "assert b == [142%100]"
   ]
  },
  {
   "cell_type": "code",
   "execution_count": null,
   "metadata": {},
   "outputs": [],
   "source": [
    "@hybridfunction\n",
    "def aug_assign_007(a,b):\n",
    "    b[0] **= a\n",
    "\n",
    "b = [42]\n",
    "\n",
    "aug_assign_007[1,1](2,b)\n",
    "\n",
    "assert b == [42**2]"
   ]
  },
  {
   "cell_type": "code",
   "execution_count": null,
   "metadata": {},
   "outputs": [],
   "source": [
    "@hybridfunction\n",
    "def aug_assign_008(a,b):\n",
    "    b[0] >>= a\n",
    "\n",
    "b = [84]\n",
    "\n",
    "aug_assign_008[1,1](1,b)\n",
    "\n",
    "assert b == [42]"
   ]
  },
  {
   "cell_type": "code",
   "execution_count": null,
   "metadata": {},
   "outputs": [],
   "source": [
    "@hybridfunction\n",
    "def aug_assign_009(a,b):\n",
    "    b[0] <<= a\n",
    "\n",
    "b = [21]\n",
    "\n",
    "aug_assign_009[1,1](1,b)\n",
    "\n",
    "assert b == [42]"
   ]
  },
  {
   "cell_type": "code",
   "execution_count": null,
   "metadata": {},
   "outputs": [],
   "source": [
    "@hybridfunction\n",
    "def aug_assign_010(a,b):\n",
    "    b[0] &= a\n",
    "\n",
    "b = [255]\n",
    "\n",
    "aug_assign_010[1,1](42,b)\n",
    "\n",
    "assert b == [42]"
   ]
  },
  {
   "cell_type": "code",
   "execution_count": null,
   "metadata": {},
   "outputs": [],
   "source": [
    "@hybridfunction\n",
    "def aug_assign_011(a,b):\n",
    "    b[0] ^= a\n",
    "\n",
    "b = [42]\n",
    "\n",
    "aug_assign_011[1,1](33,b)\n",
    "\n",
    "assert b == [42^33]"
   ]
  },
  {
   "cell_type": "code",
   "execution_count": null,
   "metadata": {},
   "outputs": [],
   "source": [
    "@hybridfunction\n",
    "def aug_assign_012(a,b):\n",
    "    b[0] |= a\n",
    "\n",
    "b = [42]\n",
    "\n",
    "aug_assign_012[1,1](33,b)\n",
    "\n",
    "assert b == [42 | 33]"
   ]
  },
  {
   "cell_type": "markdown",
   "metadata": {},
   "source": [
    "## 7.3 The assert statement\n",
    "\n",
    "https://docs.python.org/3.6/reference/simple_stmts.html#the-assert-statement\n",
    "\n"
   ]
  },
  {
   "cell_type": "code",
   "execution_count": null,
   "metadata": {},
   "outputs": [],
   "source": [
    "@hybridfunction\n",
    "def assert_001(a,b):\n",
    "    assert (a == b[0])\n",
    "\n",
    "b = [42]\n",
    "\n",
    "assert_001[1,1](42,b)"
   ]
  },
  {
   "cell_type": "markdown",
   "metadata": {},
   "source": [
    "*WARNING : when an assertion is failed, the (jupyter) kernel needs to be restarted !*"
   ]
  },
  {
   "cell_type": "markdown",
   "metadata": {},
   "source": [
    "## 7.4 The pass statement\n",
    "\n",
    "https://docs.python.org/3.6/reference/simple_stmts.html#the-pass-statement\n",
    "\n"
   ]
  },
  {
   "cell_type": "code",
   "execution_count": null,
   "metadata": {},
   "outputs": [],
   "source": [
    "@hybridfunction\n",
    "def pass_001():\n",
    "    pass\n",
    "\n",
    "pass_001[1,1]()"
   ]
  },
  {
   "cell_type": "markdown",
   "metadata": {},
   "source": [
    "## 7.5 The del statement\n",
    "\n",
    "https://docs.python.org/3.6/reference/simple_stmts.html#the-del-statement\n",
    "\n"
   ]
  },
  {
   "cell_type": "code",
   "execution_count": null,
   "metadata": {},
   "outputs": [],
   "source": [
    "# not implemented"
   ]
  },
  {
   "cell_type": "markdown",
   "metadata": {},
   "source": [
    "## 7.6 The return statement\n",
    "\n",
    "https://docs.python.org/3.6/reference/simple_stmts.html#the-return-statement\n",
    "\n"
   ]
  },
  {
   "cell_type": "code",
   "execution_count": null,
   "metadata": {},
   "outputs": [],
   "source": [
    "def answer(): \n",
    "    return 42;\n",
    "\n",
    "@hybridfunction\n",
    "def return_001(a):\n",
    "    a[0] = answer();\n",
    "    \n",
    "a = [0]\n",
    "\n",
    "#print(hybridcuda.processfunction(return_001)['cuda'])\n",
    "return_001[1,1](a)\n",
    "\n",
    "assert a == [42]"
   ]
  },
  {
   "cell_type": "markdown",
   "metadata": {},
   "source": [
    "## 7.7 The yield statement\n",
    "\n",
    "https://docs.python.org/3.6/reference/simple_stmts.html#the-yield-statement\n",
    "\n",
    "## 7.8 The raise statement\n",
    "\n",
    "https://docs.python.org/3.6/reference/simple_stmts.html#the-raise-statement\n",
    "\n"
   ]
  },
  {
   "cell_type": "markdown",
   "metadata": {},
   "source": [
    "## 7.9 The break statement\n",
    "\n",
    "https://docs.python.org/3.6/reference/simple_stmts.html#the-break-statement\n",
    "\n",
    "*see compound statements*"
   ]
  },
  {
   "cell_type": "markdown",
   "metadata": {},
   "source": [
    "## 7.10 The continue statement\n",
    "\n",
    "https://docs.python.org/3.6/reference/simple_stmts.html#the-continue-statement\n",
    "\n",
    "*see compound statements*"
   ]
  },
  {
   "cell_type": "markdown",
   "metadata": {},
   "source": [
    "## 7.11 The import statement\n",
    "\n",
    "https://docs.python.org/3.6/reference/simple_stmts.html#the-import-statement\n",
    "\n",
    "### 7.11.1 Future statements\n",
    "\n",
    "https://docs.python.org/3.6/reference/simple_stmts.html#future-statements\n",
    "\n",
    "## 7.12 The global statement\n",
    "\n",
    "https://docs.python.org/3.6/reference/simple_stmts.html#the-global-statement\n",
    "\n",
    "## 7.13 The nonlocal statement\n",
    "\n",
    "https://docs.python.org/3.6/reference/simple_stmts.html#the-nonlocal-statement"
   ]
  },
  {
   "cell_type": "code",
   "execution_count": null,
   "metadata": {},
   "outputs": [],
   "source": []
  }
 ],
 "metadata": {
  "kernelspec": {
   "display_name": "Python 3",
   "language": "python",
   "name": "python3"
  },
  "language_info": {
   "codemirror_mode": {
    "name": "ipython",
    "version": 3
   },
   "file_extension": ".py",
   "mimetype": "text/x-python",
   "name": "python",
   "nbconvert_exporter": "python",
   "pygments_lexer": "ipython3",
   "version": "3.6.5"
  }
 },
 "nbformat": 4,
 "nbformat_minor": 2
}
