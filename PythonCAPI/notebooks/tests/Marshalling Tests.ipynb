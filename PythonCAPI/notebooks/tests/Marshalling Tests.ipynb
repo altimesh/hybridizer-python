{
 "cells": [
  {
   "cell_type": "markdown",
   "metadata": {},
   "source": [
    "# Marshalling Tests\n",
    "\n",
    "\n",
    "## Prepare environment"
   ]
  },
  {
   "cell_type": "code",
   "execution_count": null,
   "metadata": {},
   "outputs": [],
   "source": [
    "import os\n",
    "os.getpid()"
   ]
  },
  {
   "cell_type": "code",
   "execution_count": null,
   "metadata": {},
   "outputs": [],
   "source": [
    "import inspect\n",
    "import hybridcuda\n",
    "cures = hybridcuda.initcuda()\n",
    "hybridcuda.registerheader(\"hybpython.cuh\", os.getcwd() + os.sep + \"..\" + os.sep + \"..\" + os.sep + \"hybpython.cuh\")\n",
    "assert cures == 0"
   ]
  },
  {
   "cell_type": "code",
   "execution_count": null,
   "metadata": {},
   "outputs": [],
   "source": [
    "class hybridkernel:\n",
    "    gridDimX = 1\n",
    "    blockDimX = 1\n",
    "    shared = 0\n",
    "    stream = 0\n",
    "    def __init__(self, func):\n",
    "        self.hc = hybridcuda.processfunction(func)\n",
    "        self.hc = hybridcuda.cudajitcode(self.hc)\n",
    "        self.hc = hybridcuda.ptxlinkcode(self.hc)\n",
    "        \n",
    "    def __call__(self, *args):\n",
    "        self.hc = hybridcuda.launch(self.hc, self.gridDimX,1,1, self.blockDimX,1,1, self.shared,self.stream, *args)\n",
    "\n",
    "    def __getitem__(self, args):\n",
    "        if (type(args) != tuple):\n",
    "            self.grid = args\n",
    "            return self\n",
    "        # args is a tuple...\n",
    "        if (len(args) > 0):\n",
    "            self.grid = args[0]\n",
    "        if (len(args) > 1):\n",
    "            self.block = args[1]\n",
    "        if (len(args) > 2):\n",
    "            self.shared = args[2]\n",
    "        if (len(args) > 3):\n",
    "            self.stream = args[3]\n",
    "        return self\n",
    "\n",
    "#decorator definition\n",
    "def hybridfunction(func):\n",
    "    return hybridkernel(func)"
   ]
  },
  {
   "cell_type": "markdown",
   "metadata": {},
   "source": [
    "#### Passing numpy arrays"
   ]
  },
  {
   "cell_type": "code",
   "execution_count": null,
   "metadata": {},
   "outputs": [],
   "source": [
    "@hybridfunction\n",
    "def mykernel_copy(N : int, a,b):\n",
    "    for i in range(0,N):\n",
    "        b[i] = a[i]"
   ]
  },
  {
   "cell_type": "code",
   "execution_count": null,
   "metadata": {},
   "outputs": [],
   "source": [
    "## prepare some data\n",
    "import numpy as np\n",
    "N = 10\n",
    "a = np.ones(N)\n",
    "b = np.zeros(N)\n",
    "\n",
    "mykernel_copy[1,1](N,a,b)\n",
    "\n",
    "for i in range(0,N):\n",
    "    assert b[i] == a[i]\n",
    "print(mykernel_copy.hc[\"cuda\"])"
   ]
  },
  {
   "cell_type": "markdown",
   "metadata": {},
   "source": [
    "#### Passing built-in value-type without typing"
   ]
  },
  {
   "cell_type": "code",
   "execution_count": null,
   "metadata": {},
   "outputs": [],
   "source": [
    "@hybridfunction\n",
    "def mykernel_intparam(N, a,b):\n",
    "    for i in range(0,N):\n",
    "        b[i] = a[i]"
   ]
  },
  {
   "cell_type": "code",
   "execution_count": null,
   "metadata": {},
   "outputs": [],
   "source": [
    "## prepare some data\n",
    "import numpy as np\n",
    "N = 10\n",
    "a = np.ones(N)\n",
    "b = np.zeros(N)\n",
    "\n",
    "mykernel_intparam[1,1](N,a,b)\n",
    "\n",
    "for i in range(0,N):\n",
    "    assert b[i] == a[i]"
   ]
  },
  {
   "cell_type": "markdown",
   "metadata": {},
   "source": [
    "#### Passing lists"
   ]
  },
  {
   "cell_type": "code",
   "execution_count": null,
   "metadata": {},
   "outputs": [],
   "source": [
    "@hybridfunction\n",
    "def mykernel_listargs(N, a,b):\n",
    "    for i in range(0,N):\n",
    "        b[i] = a[i]"
   ]
  },
  {
   "cell_type": "code",
   "execution_count": null,
   "metadata": {},
   "outputs": [],
   "source": [
    "N = 5\n",
    "a = [1,2,3,4,5]\n",
    "b = [0,0,0,0,0]\n",
    "\n",
    "mykernel_listargs[1,1](N,a,b)\n",
    "\n",
    "for i in range(0,N):\n",
    "    assert b[i] == a[i]"
   ]
  },
  {
   "cell_type": "code",
   "execution_count": null,
   "metadata": {},
   "outputs": [],
   "source": [
    "b"
   ]
  },
  {
   "cell_type": "markdown",
   "metadata": {},
   "source": [
    "#### Passing tuples"
   ]
  },
  {
   "cell_type": "code",
   "execution_count": null,
   "metadata": {},
   "outputs": [],
   "source": [
    "@hybridfunction\n",
    "def mykernel_tupleargs(N, a,b):\n",
    "    for i in range(0,N):\n",
    "        b[i] = a[i]"
   ]
  },
  {
   "cell_type": "code",
   "execution_count": null,
   "metadata": {},
   "outputs": [],
   "source": [
    "N = 5\n",
    "a = (1,2.0,3,4,5)\n",
    "b = [0,0,0,0,0]\n",
    "\n",
    "mykernel_tupleargs[1,1](N,a,b)\n",
    "\n",
    "for i in range(0,N):\n",
    "    assert b[i] == a[i]"
   ]
  },
  {
   "cell_type": "code",
   "execution_count": null,
   "metadata": {},
   "outputs": [],
   "source": [
    "b"
   ]
  },
  {
   "cell_type": "markdown",
   "metadata": {},
   "source": [
    "#### Passing arithmetic types"
   ]
  },
  {
   "cell_type": "code",
   "execution_count": null,
   "metadata": {},
   "outputs": [],
   "source": [
    "@hybridfunction\n",
    "def mykernel_arithtypes(a,b):\n",
    "    b[0] = a"
   ]
  },
  {
   "cell_type": "code",
   "execution_count": null,
   "metadata": {},
   "outputs": [],
   "source": [
    "b = [0]\n",
    "mykernel_arithtypes[1,1](1,b)\n",
    "assert b[0] == 1"
   ]
  },
  {
   "cell_type": "code",
   "execution_count": null,
   "metadata": {},
   "outputs": [],
   "source": [
    "b = [0]\n",
    "mykernel_arithtypes[1,1](1.0,b)\n",
    "assert b[0] == 1.0"
   ]
  },
  {
   "cell_type": "code",
   "execution_count": null,
   "metadata": {},
   "outputs": [],
   "source": [
    "b = [0]\n",
    "mykernel_arithtypes[1,1](1+1j,b)\n",
    "assert b[0] == (1.0+1.0j)"
   ]
  },
  {
   "cell_type": "code",
   "execution_count": null,
   "metadata": {},
   "outputs": [],
   "source": [
    "b = [0]\n",
    "mykernel_arithtypes[1,1](float('NaN'),b)\n",
    "\n",
    "x = float('NaN')\n",
    "x != x"
   ]
  },
  {
   "cell_type": "markdown",
   "metadata": {},
   "source": [
    "#### Passing booleans"
   ]
  },
  {
   "cell_type": "code",
   "execution_count": null,
   "metadata": {},
   "outputs": [],
   "source": [
    "@hybridfunction\n",
    "def mykernel_booltypes(a,b):\n",
    "    b[0] = a"
   ]
  },
  {
   "cell_type": "code",
   "execution_count": null,
   "metadata": {},
   "outputs": [],
   "source": [
    "b = [0]\n",
    "mykernel_booltypes[1,1](True,b)\n",
    "assert b[0] == True\n",
    "assert type(b[0]) == type(True)"
   ]
  },
  {
   "cell_type": "code",
   "execution_count": null,
   "metadata": {},
   "outputs": [],
   "source": [
    "b[0]"
   ]
  },
  {
   "cell_type": "code",
   "execution_count": null,
   "metadata": {},
   "outputs": [],
   "source": []
  }
 ],
 "metadata": {
  "kernelspec": {
   "display_name": "Python 3",
   "language": "python",
   "name": "python3"
  },
  "language_info": {
   "codemirror_mode": {
    "name": "ipython",
    "version": 3
   },
   "file_extension": ".py",
   "mimetype": "text/x-python",
   "name": "python",
   "nbconvert_exporter": "python",
   "pygments_lexer": "ipython3",
   "version": "3.6.5"
  }
 },
 "nbformat": 4,
 "nbformat_minor": 2
}
